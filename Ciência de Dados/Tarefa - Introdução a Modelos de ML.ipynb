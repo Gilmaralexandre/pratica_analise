{
 "cells": [
  {
   "cell_type": "code",
   "execution_count": 77,
   "metadata": {},
   "outputs": [],
   "source": [
    "import pandas as pd\n",
    "import numpy as np\n",
    "import seaborn as sns\n",
    "\n",
    "import matplotlib.pyplot as plt"
   ]
  },
  {
   "cell_type": "code",
   "execution_count": 78,
   "metadata": {},
   "outputs": [
    {
     "data": {
      "text/html": [
       "<div>\n",
       "<style scoped>\n",
       "    .dataframe tbody tr th:only-of-type {\n",
       "        vertical-align: middle;\n",
       "    }\n",
       "\n",
       "    .dataframe tbody tr th {\n",
       "        vertical-align: top;\n",
       "    }\n",
       "\n",
       "    .dataframe thead th {\n",
       "        text-align: right;\n",
       "    }\n",
       "</style>\n",
       "<table border=\"1\" class=\"dataframe\">\n",
       "  <thead>\n",
       "    <tr style=\"text-align: right;\">\n",
       "      <th></th>\n",
       "      <th>sex</th>\n",
       "      <th>age</th>\n",
       "      <th>famsize</th>\n",
       "      <th>Pstatus</th>\n",
       "      <th>traveltime</th>\n",
       "      <th>studytime</th>\n",
       "      <th>schoolsup</th>\n",
       "      <th>famsup</th>\n",
       "      <th>paid</th>\n",
       "      <th>activities</th>\n",
       "      <th>internet</th>\n",
       "      <th>romantic</th>\n",
       "      <th>famrel</th>\n",
       "      <th>freetime</th>\n",
       "      <th>goout</th>\n",
       "      <th>absences</th>\n",
       "      <th>G3</th>\n",
       "    </tr>\n",
       "  </thead>\n",
       "  <tbody>\n",
       "    <tr>\n",
       "      <th>0</th>\n",
       "      <td>F</td>\n",
       "      <td>18</td>\n",
       "      <td>GT3</td>\n",
       "      <td>A</td>\n",
       "      <td>2</td>\n",
       "      <td>2</td>\n",
       "      <td>yes</td>\n",
       "      <td>no</td>\n",
       "      <td>no</td>\n",
       "      <td>no</td>\n",
       "      <td>no</td>\n",
       "      <td>no</td>\n",
       "      <td>4</td>\n",
       "      <td>3</td>\n",
       "      <td>4</td>\n",
       "      <td>6</td>\n",
       "      <td>6</td>\n",
       "    </tr>\n",
       "    <tr>\n",
       "      <th>1</th>\n",
       "      <td>F</td>\n",
       "      <td>17</td>\n",
       "      <td>GT3</td>\n",
       "      <td>T</td>\n",
       "      <td>1</td>\n",
       "      <td>2</td>\n",
       "      <td>no</td>\n",
       "      <td>yes</td>\n",
       "      <td>no</td>\n",
       "      <td>no</td>\n",
       "      <td>yes</td>\n",
       "      <td>no</td>\n",
       "      <td>5</td>\n",
       "      <td>3</td>\n",
       "      <td>3</td>\n",
       "      <td>4</td>\n",
       "      <td>6</td>\n",
       "    </tr>\n",
       "    <tr>\n",
       "      <th>2</th>\n",
       "      <td>F</td>\n",
       "      <td>15</td>\n",
       "      <td>LE3</td>\n",
       "      <td>T</td>\n",
       "      <td>1</td>\n",
       "      <td>2</td>\n",
       "      <td>yes</td>\n",
       "      <td>no</td>\n",
       "      <td>yes</td>\n",
       "      <td>no</td>\n",
       "      <td>yes</td>\n",
       "      <td>no</td>\n",
       "      <td>4</td>\n",
       "      <td>3</td>\n",
       "      <td>2</td>\n",
       "      <td>10</td>\n",
       "      <td>10</td>\n",
       "    </tr>\n",
       "    <tr>\n",
       "      <th>3</th>\n",
       "      <td>F</td>\n",
       "      <td>15</td>\n",
       "      <td>GT3</td>\n",
       "      <td>T</td>\n",
       "      <td>1</td>\n",
       "      <td>3</td>\n",
       "      <td>no</td>\n",
       "      <td>yes</td>\n",
       "      <td>yes</td>\n",
       "      <td>yes</td>\n",
       "      <td>yes</td>\n",
       "      <td>yes</td>\n",
       "      <td>3</td>\n",
       "      <td>2</td>\n",
       "      <td>2</td>\n",
       "      <td>2</td>\n",
       "      <td>15</td>\n",
       "    </tr>\n",
       "    <tr>\n",
       "      <th>4</th>\n",
       "      <td>F</td>\n",
       "      <td>16</td>\n",
       "      <td>GT3</td>\n",
       "      <td>T</td>\n",
       "      <td>1</td>\n",
       "      <td>2</td>\n",
       "      <td>no</td>\n",
       "      <td>yes</td>\n",
       "      <td>yes</td>\n",
       "      <td>no</td>\n",
       "      <td>no</td>\n",
       "      <td>no</td>\n",
       "      <td>4</td>\n",
       "      <td>3</td>\n",
       "      <td>2</td>\n",
       "      <td>4</td>\n",
       "      <td>10</td>\n",
       "    </tr>\n",
       "  </tbody>\n",
       "</table>\n",
       "</div>"
      ],
      "text/plain": [
       "  sex  age famsize Pstatus  traveltime  studytime schoolsup famsup paid  \\\n",
       "0   F   18     GT3       A           2          2       yes     no   no   \n",
       "1   F   17     GT3       T           1          2        no    yes   no   \n",
       "2   F   15     LE3       T           1          2       yes     no  yes   \n",
       "3   F   15     GT3       T           1          3        no    yes  yes   \n",
       "4   F   16     GT3       T           1          2        no    yes  yes   \n",
       "\n",
       "  activities internet romantic  famrel  freetime  goout  absences  G3  \n",
       "0         no       no       no       4         3      4         6   6  \n",
       "1         no      yes       no       5         3      3         4   6  \n",
       "2         no      yes       no       4         3      2        10  10  \n",
       "3        yes      yes      yes       3         2      2         2  15  \n",
       "4         no       no       no       4         3      2         4  10  "
      ]
     },
     "execution_count": 78,
     "metadata": {},
     "output_type": "execute_result"
    }
   ],
   "source": [
    "df = pd.read_csv(\"dataframe_exercicio_modulo_9.csv\")\n",
    "df.head()"
   ]
  },
  {
   "cell_type": "markdown",
   "metadata": {},
   "source": [
    "Atributos do dataset:\n",
    "    \n",
    "    1- 'sex': sexo\n",
    "    \n",
    "    2- 'age': idade\n",
    "    \n",
    "    3- 'famsize': tamanho da família; LE3 - famílias com no máximo 3 pessoas, GT3 caso contrário\n",
    "    \n",
    "    4- 'Pstatus': status de habitação com os pais; T - mora junto com os pais, A - mora separado;\n",
    "    \n",
    "    5- 'traveltime': tempo de viagem entre escola e casa; \n",
    "        1 - <15 min., 2 - 15 a 30 min., 3 - 30 min. a 1 hora, or 4 - >1 hora\n",
    "        \n",
    "    6- 'studytime': tempo de estudo semanal; 1 - <2 horas, 2 - 2 a 5 horas, 3 - 5 a 10 horas, ou 4 - >10 horas\n",
    "    \n",
    "    7- 'schoolsup': suporte educacional extra escola\n",
    "    \n",
    "    8- 'famsup': suporte educacional da família\n",
    "    \n",
    "    9- 'paid': pagou aulas particulares por fora \n",
    "    \n",
    "    10- 'activities': atividades extra-curriculares\n",
    "    \n",
    "    11- 'internet': acesso a internet em casa\n",
    "    \n",
    "    12- 'romantic': se está num relacionamento\n",
    "    \n",
    "    13- 'famrel': qualidade das relações familiares; 1 - muito ruim a 5 - muito boa\n",
    "    \n",
    "    14- 'freetime': tempo livre após escola; 1 - muito pouco até 5 - muito\n",
    "    \n",
    "    15- 'goout': relaciona-se com amigos; 1 - muito pouco até 5 - muito\n",
    "    \n",
    "    16- 'absences': quantidade de faltas na escola\n",
    "    \n",
    "    17- 'G3': nota média final no ensino médio\n",
    "    \n",
    "<br>\n",
    "\n",
    "No dataset acima, faça uma __análise exploratória__ geral, bem como __pré-processamentos__ nas variáveis.\n",
    "\n",
    "Considere a variável __'G3'__ como a __variável target__ do problema - contexto de __regressão.__\n",
    "\n",
    "Teste __diferentes modelos de regressão__ a fim de explicar a variável target. Use a metodologia da __validação cruzada__ e o __coeficiente de determinação ($R^{2}$)__ como métrica de performance.\n",
    "\n",
    "Plote __gráficos__ personalizados com os resultados."
   ]
  },
  {
   "cell_type": "markdown",
   "metadata": {},
   "source": [
    "## Dicionário de dados"
   ]
  },
  {
   "cell_type": "code",
   "execution_count": 79,
   "metadata": {},
   "outputs": [],
   "source": [
    "dicionário = {\n",
    "    'sex': ['sexo',\"categorica 0 - 1\"],\n",
    "    'age': ['idade', \"continua\"],\n",
    "    'famsize': ['tamanho da família; LE3 - famílias com no máximo 3 pessoas, GT3 caso contrário', \"categorica 0 - 1\"],\n",
    "    'Pstatus': ['status de habitação com os pais; T - mora junto com os pais, A - mora separado;', \"categorica 0 - 1\"],\n",
    "    'traveltime': ['tempo de viagem entre escola e casa; 1 - <15 min., 2 - 15 a 30 min., 3 - 30 min. a 1 hora, or 4 - >1 hora', \"categorica ordinal\"],\n",
    "    'studytime': ['tempo de estudo semanal; 1 - <2 horas, 2 - 2 a 5 horas, 3 - 5 a 10 horas, ou 4 - >10 horas', \"categorica ordinal\"],\n",
    "    'schoolsup': ['suporte educacional extra escola', \"categorica 0 - 1\"],\n",
    "    'famsup': ['suporte educacional da família', \"categorica 0 - 1\"],\n",
    "    'paid': ['pagou aulas particulares por fora', \"categorica 0 - 1\"],\n",
    "    'activities': ['atividades extra-curriculares', \"categorica 0 - 1\"],\n",
    "    'internet': ['acesso a internet em casa', \"categorica 0 - 1\"],\n",
    "    'romantic': ['se está num relacionamento', \"categorica 0 - 1\"],\n",
    "    'famrel': ['qualidade das relações familiares; 1 - muito ruim a 5 - muito boa', \"categorica ordinal\"],\n",
    "    'freetime': ['tempo livre após escola; 1 - muito pouco até 5 - muito', \"categorica ordinal\"],\n",
    "    'goout': ['relaciona-se com amigos; 1 - muito pouco até 5 - muito', \"categorica ordinal\"],\n",
    "    'absences': ['quantidade de faltas na escola', \"continua\"],\n",
    "    'G3': ['nota média final no ensino médio', \"continua\"],\n",
    "}"
   ]
  },
  {
   "cell_type": "code",
   "execution_count": 80,
   "metadata": {},
   "outputs": [],
   "source": [
    "def DataFrame(dicio):\n",
    "    dados = {   \n",
    "        'Variavel' : [x for x in dicionário],\n",
    "        'Descrição' : [x[0] for x in dicionário.values()],\n",
    "        'Tipo' : [x[1] for x in dicionário.values()]\n",
    "            }\n",
    " \n",
    "    df = pd.DataFrame(data = dados)\n",
    "                    \n",
    "    return df"
   ]
  },
  {
   "cell_type": "code",
   "execution_count": 81,
   "metadata": {},
   "outputs": [
    {
     "data": {
      "text/html": [
       "<div>\n",
       "<style scoped>\n",
       "    .dataframe tbody tr th:only-of-type {\n",
       "        vertical-align: middle;\n",
       "    }\n",
       "\n",
       "    .dataframe tbody tr th {\n",
       "        vertical-align: top;\n",
       "    }\n",
       "\n",
       "    .dataframe thead th {\n",
       "        text-align: right;\n",
       "    }\n",
       "</style>\n",
       "<table border=\"1\" class=\"dataframe\">\n",
       "  <thead>\n",
       "    <tr style=\"text-align: right;\">\n",
       "      <th></th>\n",
       "      <th>Variavel</th>\n",
       "      <th>Descrição</th>\n",
       "      <th>Tipo</th>\n",
       "    </tr>\n",
       "  </thead>\n",
       "  <tbody>\n",
       "    <tr>\n",
       "      <th>0</th>\n",
       "      <td>sex</td>\n",
       "      <td>sexo</td>\n",
       "      <td>categorica 0 - 1</td>\n",
       "    </tr>\n",
       "    <tr>\n",
       "      <th>1</th>\n",
       "      <td>age</td>\n",
       "      <td>idade</td>\n",
       "      <td>continua</td>\n",
       "    </tr>\n",
       "    <tr>\n",
       "      <th>2</th>\n",
       "      <td>famsize</td>\n",
       "      <td>tamanho da família; LE3 - famílias com no máxi...</td>\n",
       "      <td>categorica 0 - 1</td>\n",
       "    </tr>\n",
       "    <tr>\n",
       "      <th>3</th>\n",
       "      <td>Pstatus</td>\n",
       "      <td>status de habitação com os pais; T - mora junt...</td>\n",
       "      <td>categorica 0 - 1</td>\n",
       "    </tr>\n",
       "    <tr>\n",
       "      <th>4</th>\n",
       "      <td>traveltime</td>\n",
       "      <td>tempo de viagem entre escola e casa; 1 - &lt;15 m...</td>\n",
       "      <td>categorica ordinal</td>\n",
       "    </tr>\n",
       "    <tr>\n",
       "      <th>5</th>\n",
       "      <td>studytime</td>\n",
       "      <td>tempo de estudo semanal; 1 - &lt;2 horas, 2 - 2 a...</td>\n",
       "      <td>categorica ordinal</td>\n",
       "    </tr>\n",
       "    <tr>\n",
       "      <th>6</th>\n",
       "      <td>schoolsup</td>\n",
       "      <td>suporte educacional extra escola</td>\n",
       "      <td>categorica 0 - 1</td>\n",
       "    </tr>\n",
       "    <tr>\n",
       "      <th>7</th>\n",
       "      <td>famsup</td>\n",
       "      <td>suporte educacional da família</td>\n",
       "      <td>categorica 0 - 1</td>\n",
       "    </tr>\n",
       "    <tr>\n",
       "      <th>8</th>\n",
       "      <td>paid</td>\n",
       "      <td>pagou aulas particulares por fora</td>\n",
       "      <td>categorica 0 - 1</td>\n",
       "    </tr>\n",
       "    <tr>\n",
       "      <th>9</th>\n",
       "      <td>activities</td>\n",
       "      <td>atividades extra-curriculares</td>\n",
       "      <td>categorica 0 - 1</td>\n",
       "    </tr>\n",
       "    <tr>\n",
       "      <th>10</th>\n",
       "      <td>internet</td>\n",
       "      <td>acesso a internet em casa</td>\n",
       "      <td>categorica 0 - 1</td>\n",
       "    </tr>\n",
       "    <tr>\n",
       "      <th>11</th>\n",
       "      <td>romantic</td>\n",
       "      <td>se está num relacionamento</td>\n",
       "      <td>categorica 0 - 1</td>\n",
       "    </tr>\n",
       "    <tr>\n",
       "      <th>12</th>\n",
       "      <td>famrel</td>\n",
       "      <td>qualidade das relações familiares; 1 - muito r...</td>\n",
       "      <td>categorica ordinal</td>\n",
       "    </tr>\n",
       "    <tr>\n",
       "      <th>13</th>\n",
       "      <td>freetime</td>\n",
       "      <td>tempo livre após escola; 1 - muito pouco até 5...</td>\n",
       "      <td>categorica ordinal</td>\n",
       "    </tr>\n",
       "    <tr>\n",
       "      <th>14</th>\n",
       "      <td>goout</td>\n",
       "      <td>relaciona-se com amigos; 1 - muito pouco até 5...</td>\n",
       "      <td>categorica ordinal</td>\n",
       "    </tr>\n",
       "    <tr>\n",
       "      <th>15</th>\n",
       "      <td>absences</td>\n",
       "      <td>quantidade de faltas na escola</td>\n",
       "      <td>continua</td>\n",
       "    </tr>\n",
       "    <tr>\n",
       "      <th>16</th>\n",
       "      <td>G3</td>\n",
       "      <td>nota média final no ensino médio</td>\n",
       "      <td>continua</td>\n",
       "    </tr>\n",
       "  </tbody>\n",
       "</table>\n",
       "</div>"
      ],
      "text/plain": [
       "      Variavel                                          Descrição  \\\n",
       "0          sex                                               sexo   \n",
       "1          age                                              idade   \n",
       "2      famsize  tamanho da família; LE3 - famílias com no máxi...   \n",
       "3      Pstatus  status de habitação com os pais; T - mora junt...   \n",
       "4   traveltime  tempo de viagem entre escola e casa; 1 - <15 m...   \n",
       "5    studytime  tempo de estudo semanal; 1 - <2 horas, 2 - 2 a...   \n",
       "6    schoolsup                   suporte educacional extra escola   \n",
       "7       famsup                     suporte educacional da família   \n",
       "8         paid                  pagou aulas particulares por fora   \n",
       "9   activities                      atividades extra-curriculares   \n",
       "10    internet                          acesso a internet em casa   \n",
       "11    romantic                         se está num relacionamento   \n",
       "12      famrel  qualidade das relações familiares; 1 - muito r...   \n",
       "13    freetime  tempo livre após escola; 1 - muito pouco até 5...   \n",
       "14       goout  relaciona-se com amigos; 1 - muito pouco até 5...   \n",
       "15    absences                     quantidade de faltas na escola   \n",
       "16          G3                   nota média final no ensino médio   \n",
       "\n",
       "                  Tipo  \n",
       "0     categorica 0 - 1  \n",
       "1             continua  \n",
       "2     categorica 0 - 1  \n",
       "3     categorica 0 - 1  \n",
       "4   categorica ordinal  \n",
       "5   categorica ordinal  \n",
       "6     categorica 0 - 1  \n",
       "7     categorica 0 - 1  \n",
       "8     categorica 0 - 1  \n",
       "9     categorica 0 - 1  \n",
       "10    categorica 0 - 1  \n",
       "11    categorica 0 - 1  \n",
       "12  categorica ordinal  \n",
       "13  categorica ordinal  \n",
       "14  categorica ordinal  \n",
       "15            continua  \n",
       "16            continua  "
      ]
     },
     "execution_count": 81,
     "metadata": {},
     "output_type": "execute_result"
    }
   ],
   "source": [
    "Dicionário_de_Dados = DataFrame(dicionário)\n",
    "Dicionário_de_Dados"
   ]
  },
  {
   "cell_type": "markdown",
   "metadata": {},
   "source": [
    "### Análise Exploratória"
   ]
  },
  {
   "cell_type": "code",
   "execution_count": 82,
   "metadata": {},
   "outputs": [
    {
     "data": {
      "text/html": [
       "<div>\n",
       "<style scoped>\n",
       "    .dataframe tbody tr th:only-of-type {\n",
       "        vertical-align: middle;\n",
       "    }\n",
       "\n",
       "    .dataframe tbody tr th {\n",
       "        vertical-align: top;\n",
       "    }\n",
       "\n",
       "    .dataframe thead th {\n",
       "        text-align: right;\n",
       "    }\n",
       "</style>\n",
       "<table border=\"1\" class=\"dataframe\">\n",
       "  <thead>\n",
       "    <tr style=\"text-align: right;\">\n",
       "      <th></th>\n",
       "      <th>sex</th>\n",
       "      <th>age</th>\n",
       "      <th>famsize</th>\n",
       "      <th>Pstatus</th>\n",
       "      <th>traveltime</th>\n",
       "      <th>studytime</th>\n",
       "      <th>schoolsup</th>\n",
       "      <th>famsup</th>\n",
       "      <th>paid</th>\n",
       "      <th>activities</th>\n",
       "      <th>internet</th>\n",
       "      <th>romantic</th>\n",
       "      <th>famrel</th>\n",
       "      <th>freetime</th>\n",
       "      <th>goout</th>\n",
       "      <th>absences</th>\n",
       "      <th>G3</th>\n",
       "    </tr>\n",
       "  </thead>\n",
       "  <tbody>\n",
       "    <tr>\n",
       "      <th>0</th>\n",
       "      <td>F</td>\n",
       "      <td>18</td>\n",
       "      <td>GT3</td>\n",
       "      <td>A</td>\n",
       "      <td>2</td>\n",
       "      <td>2</td>\n",
       "      <td>yes</td>\n",
       "      <td>no</td>\n",
       "      <td>no</td>\n",
       "      <td>no</td>\n",
       "      <td>no</td>\n",
       "      <td>no</td>\n",
       "      <td>4</td>\n",
       "      <td>3</td>\n",
       "      <td>4</td>\n",
       "      <td>6</td>\n",
       "      <td>6</td>\n",
       "    </tr>\n",
       "    <tr>\n",
       "      <th>1</th>\n",
       "      <td>F</td>\n",
       "      <td>17</td>\n",
       "      <td>GT3</td>\n",
       "      <td>T</td>\n",
       "      <td>1</td>\n",
       "      <td>2</td>\n",
       "      <td>no</td>\n",
       "      <td>yes</td>\n",
       "      <td>no</td>\n",
       "      <td>no</td>\n",
       "      <td>yes</td>\n",
       "      <td>no</td>\n",
       "      <td>5</td>\n",
       "      <td>3</td>\n",
       "      <td>3</td>\n",
       "      <td>4</td>\n",
       "      <td>6</td>\n",
       "    </tr>\n",
       "    <tr>\n",
       "      <th>2</th>\n",
       "      <td>F</td>\n",
       "      <td>15</td>\n",
       "      <td>LE3</td>\n",
       "      <td>T</td>\n",
       "      <td>1</td>\n",
       "      <td>2</td>\n",
       "      <td>yes</td>\n",
       "      <td>no</td>\n",
       "      <td>yes</td>\n",
       "      <td>no</td>\n",
       "      <td>yes</td>\n",
       "      <td>no</td>\n",
       "      <td>4</td>\n",
       "      <td>3</td>\n",
       "      <td>2</td>\n",
       "      <td>10</td>\n",
       "      <td>10</td>\n",
       "    </tr>\n",
       "    <tr>\n",
       "      <th>3</th>\n",
       "      <td>F</td>\n",
       "      <td>15</td>\n",
       "      <td>GT3</td>\n",
       "      <td>T</td>\n",
       "      <td>1</td>\n",
       "      <td>3</td>\n",
       "      <td>no</td>\n",
       "      <td>yes</td>\n",
       "      <td>yes</td>\n",
       "      <td>yes</td>\n",
       "      <td>yes</td>\n",
       "      <td>yes</td>\n",
       "      <td>3</td>\n",
       "      <td>2</td>\n",
       "      <td>2</td>\n",
       "      <td>2</td>\n",
       "      <td>15</td>\n",
       "    </tr>\n",
       "    <tr>\n",
       "      <th>4</th>\n",
       "      <td>F</td>\n",
       "      <td>16</td>\n",
       "      <td>GT3</td>\n",
       "      <td>T</td>\n",
       "      <td>1</td>\n",
       "      <td>2</td>\n",
       "      <td>no</td>\n",
       "      <td>yes</td>\n",
       "      <td>yes</td>\n",
       "      <td>no</td>\n",
       "      <td>no</td>\n",
       "      <td>no</td>\n",
       "      <td>4</td>\n",
       "      <td>3</td>\n",
       "      <td>2</td>\n",
       "      <td>4</td>\n",
       "      <td>10</td>\n",
       "    </tr>\n",
       "  </tbody>\n",
       "</table>\n",
       "</div>"
      ],
      "text/plain": [
       "  sex  age famsize Pstatus  traveltime  studytime schoolsup famsup paid  \\\n",
       "0   F   18     GT3       A           2          2       yes     no   no   \n",
       "1   F   17     GT3       T           1          2        no    yes   no   \n",
       "2   F   15     LE3       T           1          2       yes     no  yes   \n",
       "3   F   15     GT3       T           1          3        no    yes  yes   \n",
       "4   F   16     GT3       T           1          2        no    yes  yes   \n",
       "\n",
       "  activities internet romantic  famrel  freetime  goout  absences  G3  \n",
       "0         no       no       no       4         3      4         6   6  \n",
       "1         no      yes       no       5         3      3         4   6  \n",
       "2         no      yes       no       4         3      2        10  10  \n",
       "3        yes      yes      yes       3         2      2         2  15  \n",
       "4         no       no       no       4         3      2         4  10  "
      ]
     },
     "execution_count": 82,
     "metadata": {},
     "output_type": "execute_result"
    }
   ],
   "source": [
    "df.head()"
   ]
  },
  {
   "cell_type": "code",
   "execution_count": 114,
   "metadata": {},
   "outputs": [
    {
     "data": {
      "text/plain": [
       "array([[<AxesSubplot:title={'center':'sex'}>,\n",
       "        <AxesSubplot:title={'center':'age'}>,\n",
       "        <AxesSubplot:title={'center':'famsize'}>,\n",
       "        <AxesSubplot:title={'center':'Pstatus'}>],\n",
       "       [<AxesSubplot:title={'center':'traveltime'}>,\n",
       "        <AxesSubplot:title={'center':'studytime'}>,\n",
       "        <AxesSubplot:title={'center':'schoolsup'}>,\n",
       "        <AxesSubplot:title={'center':'famsup'}>],\n",
       "       [<AxesSubplot:title={'center':'paid'}>,\n",
       "        <AxesSubplot:title={'center':'activities'}>,\n",
       "        <AxesSubplot:title={'center':'internet'}>,\n",
       "        <AxesSubplot:title={'center':'romantic'}>],\n",
       "       [<AxesSubplot:title={'center':'famrel'}>,\n",
       "        <AxesSubplot:title={'center':'freetime'}>,\n",
       "        <AxesSubplot:title={'center':'goout'}>,\n",
       "        <AxesSubplot:title={'center':'absences'}>],\n",
       "       [<AxesSubplot:title={'center':'G3'}>, <AxesSubplot:>,\n",
       "        <AxesSubplot:>, <AxesSubplot:>]], dtype=object)"
      ]
     },
     "execution_count": 114,
     "metadata": {},
     "output_type": "execute_result"
    },
    {
     "data": {
      "image/png": "[encoded data removed]",
      "text/plain": [
       "<Figure size 1080x720 with 20 Axes>"
      ]
     },
     "metadata": {
      "needs_background": "light"
     },
     "output_type": "display_data"
    }
   ],
   "source": [
    "df.hist(figsize=[15,10])"
   ]
  },
  {
   "cell_type": "code",
   "execution_count": 83,
   "metadata": {},
   "outputs": [
    {
     "data": {
      "text/plain": [
       "F    56.609195\n",
       "M    43.390805\n",
       "Name: sex, dtype: float64"
      ]
     },
     "execution_count": 83,
     "metadata": {},
     "output_type": "execute_result"
    }
   ],
   "source": [
    "df.sex.value_counts()*100/df.sex.shape[0]"
   ]
  },
  {
   "cell_type": "code",
   "execution_count": 84,
   "metadata": {},
   "outputs": [
    {
     "data": {
      "image/png": "[encoded data removed]",
      "text/plain": [
       "<Figure size 432x288 with 1 Axes>"
      ]
     },
     "metadata": {
      "needs_background": "light"
     },
     "output_type": "display_data"
    }
   ],
   "source": [
    "plt.title('Distribuição de frequência para variável Sex\\n', {'fontsize': 12,'fontweight': 'bold'})\n",
    "plt.bar(df.sex.unique(), df.sex.value_counts(), color = 'lightblue')\n",
    "\n",
    "plt.show()"
   ]
  },
  {
   "cell_type": "markdown",
   "metadata": {},
   "source": [
    "- 56% dos alunos do conjunto de dados são pessoas do sexo feminino "
   ]
  },
  {
   "cell_type": "code",
   "execution_count": 85,
   "metadata": {},
   "outputs": [
    {
     "data": {
      "text/plain": [
       "count    1044.000000\n",
       "mean       16.726054\n",
       "std         1.239975\n",
       "min        15.000000\n",
       "25%        16.000000\n",
       "50%        17.000000\n",
       "75%        18.000000\n",
       "max        22.000000\n",
       "Name: age, dtype: float64"
      ]
     },
     "execution_count": 85,
     "metadata": {},
     "output_type": "execute_result"
    }
   ],
   "source": [
    "df.age.describe()"
   ]
  },
  {
   "cell_type": "code",
   "execution_count": 86,
   "metadata": {},
   "outputs": [
    {
     "name": "stdout",
     "output_type": "stream",
     "text": [
      "16    281\n",
      "17    277\n",
      "18    222\n",
      "15    194\n",
      "19     56\n",
      "20      9\n",
      "21      3\n",
      "22      2\n",
      "Name: age, dtype: int64\n"
     ]
    },
    {
     "data": {
      "image/png": "[encoded data removed]",
      "text/plain": [
       "<Figure size 432x288 with 1 Axes>"
      ]
     },
     "metadata": {
      "needs_background": "light"
     },
     "output_type": "display_data"
    }
   ],
   "source": [
    "print(df.age.value_counts())\n",
    "plt.hist(df.age, bins = 30)\n",
    "plt.title(\"Distribuição da variável Age\")\n",
    "plt.show()"
   ]
  },
  {
   "cell_type": "markdown",
   "metadata": {},
   "source": [
    "#### Observações\n",
    "\n",
    "- A age visualmente parece ter uma concentração maior nas idades de 16 a 18 anos, e a partir dos 18 anos o padrão dos dados\n",
    "é de queda, possivelmente pela idade de termino das atividades escolares (ensino médio).\n",
    "\n",
    "- A variavel Age possui outlier, vai ser considerada caso o prosseguimento da análise nos aponte um possivel insight"
   ]
  },
  {
   "cell_type": "code",
   "execution_count": 87,
   "metadata": {},
   "outputs": [
    {
     "data": {
      "image/png": "[encoded data removed]",
      "text/plain": [
       "<Figure size 432x288 with 1 Axes>"
      ]
     },
     "metadata": {
      "needs_background": "light"
     },
     "output_type": "display_data"
    }
   ],
   "source": [
    "plt.boxplot(df.age)\n",
    "plt.show()"
   ]
  },
  {
   "cell_type": "markdown",
   "metadata": {},
   "source": [
    "- Distribuição das idades, demonstra que as idades mais numerosas estão entre 15 a 18 anos \n",
    "- Variavel possui um valor discrepante (outlier)"
   ]
  },
  {
   "cell_type": "code",
   "execution_count": 88,
   "metadata": {},
   "outputs": [
    {
     "name": "stdout",
     "output_type": "stream",
     "text": [
      "GT3    70.689655\n",
      "LE3    29.310345\n",
      "Name: famsize, dtype: float64\n"
     ]
    },
    {
     "data": {
      "image/png": "[encoded data removed]",
      "text/plain": [
       "<Figure size 432x288 with 1 Axes>"
      ]
     },
     "metadata": {
      "needs_background": "light"
     },
     "output_type": "display_data"
    }
   ],
   "source": [
    "print(df.famsize.value_counts()*100/df.shape[0])\n",
    "plt.title('Distribuição de frequência para variável Famsize\\n', {'fontsize': 12,'fontweight': 'bold'})\n",
    "plt.bar(df.famsize.unique(), df.famsize.value_counts(), color = 'lightgreen')\n",
    "\n",
    "plt.show()"
   ]
  },
  {
   "cell_type": "markdown",
   "metadata": {},
   "source": [
    "- 70 das familias possuem mais de 3 pessoas"
   ]
  },
  {
   "cell_type": "code",
   "execution_count": 89,
   "metadata": {},
   "outputs": [
    {
     "name": "stdout",
     "output_type": "stream",
     "text": [
      "T    88.409962\n",
      "A    11.590038\n",
      "Name: Pstatus, dtype: float64\n"
     ]
    },
    {
     "data": {
      "image/png": "[encoded data removed]",
      "text/plain": [
       "<Figure size 432x288 with 1 Axes>"
      ]
     },
     "metadata": {
      "needs_background": "light"
     },
     "output_type": "display_data"
    }
   ],
   "source": [
    "print(df.Pstatus.value_counts()/df.shape[0]*100)\n",
    "plt.title('Distribuição de frequência para variável Pstatus\\n', {'fontsize': 12,'fontweight': 'bold'})\n",
    "plt.barh(df.Pstatus.unique(), df.Pstatus.value_counts(), color = 'gray')\n",
    "\n",
    "plt.show()"
   ]
  },
  {
   "cell_type": "markdown",
   "metadata": {},
   "source": [
    "- 88 por cento mora junto com os pais"
   ]
  },
  {
   "cell_type": "code",
   "execution_count": 90,
   "metadata": {},
   "outputs": [
    {
     "name": "stdout",
     "output_type": "stream",
     "text": [
      "Observação do tempo gasto de deslocamento feito pelos alunos\n",
      "1    623\n",
      "2    320\n",
      "3     77\n",
      "4     24\n",
      "Name: traveltime, dtype: int64\n"
     ]
    },
    {
     "data": {
      "text/plain": [
       "<AxesSubplot:>"
      ]
     },
     "execution_count": 90,
     "metadata": {},
     "output_type": "execute_result"
    },
    {
     "data": {
      "image/png": "[encoded data removed]",
      "text/plain": [
       "<Figure size 432x288 with 1 Axes>"
      ]
     },
     "metadata": {
      "needs_background": "light"
     },
     "output_type": "display_data"
    }
   ],
   "source": [
    "print(\"Observação do tempo gasto de deslocamento feito pelos alunos\")\n",
    "print(df.traveltime.value_counts())\n",
    "df.traveltime.value_counts().plot()"
   ]
  },
  {
   "cell_type": "code",
   "execution_count": 91,
   "metadata": {},
   "outputs": [
    {
     "name": "stdout",
     "output_type": "stream",
     "text": [
      "Observação do tempo de estudo semanal\n",
      "2    503\n",
      "1    317\n",
      "3    162\n",
      "4     62\n",
      "Name: studytime, dtype: int64\n"
     ]
    },
    {
     "data": {
      "text/plain": [
       "<AxesSubplot:>"
      ]
     },
     "execution_count": 91,
     "metadata": {},
     "output_type": "execute_result"
    },
    {
     "data": {
      "image/png": "[encoded data removed]",
      "text/plain": [
       "<Figure size 432x288 with 1 Axes>"
      ]
     },
     "metadata": {
      "needs_background": "light"
     },
     "output_type": "display_data"
    }
   ],
   "source": [
    "print(\"Observação do tempo de estudo semanal\")\n",
    "print(df.studytime.value_counts())\n",
    "df.studytime.value_counts().plot()"
   ]
  },
  {
   "cell_type": "code",
   "execution_count": 92,
   "metadata": {},
   "outputs": [
    {
     "name": "stdout",
     "output_type": "stream",
     "text": [
      "Observação da qualidade das relações familiares\n",
      "4    512\n",
      "5    286\n",
      "3    169\n",
      "2     47\n",
      "1     30\n",
      "Name: famrel, dtype: int64\n"
     ]
    },
    {
     "data": {
      "text/plain": [
       "<AxesSubplot:>"
      ]
     },
     "execution_count": 92,
     "metadata": {},
     "output_type": "execute_result"
    },
    {
     "data": {
      "image/png": "[encoded data removed]",
      "text/plain": [
       "<Figure size 432x288 with 1 Axes>"
      ]
     },
     "metadata": {
      "needs_background": "light"
     },
     "output_type": "display_data"
    }
   ],
   "source": [
    "print(\"Observação da qualidade das relações familiares\")\n",
    "print(df.famrel.value_counts())\n",
    "df.famrel.value_counts().plot()"
   ]
  },
  {
   "cell_type": "code",
   "execution_count": 93,
   "metadata": {},
   "outputs": [
    {
     "name": "stdout",
     "output_type": "stream",
     "text": [
      "Observação referente ao tempo livre dos alunos\n",
      "3    408\n",
      "4    293\n",
      "2    171\n",
      "5    108\n",
      "1     64\n",
      "Name: freetime, dtype: int64\n"
     ]
    },
    {
     "data": {
      "text/plain": [
       "<AxesSubplot:>"
      ]
     },
     "execution_count": 93,
     "metadata": {},
     "output_type": "execute_result"
    },
    {
     "data": {
      "image/png": "[encoded data removed]",
      "text/plain": [
       "<Figure size 432x288 with 1 Axes>"
      ]
     },
     "metadata": {
      "needs_background": "light"
     },
     "output_type": "display_data"
    }
   ],
   "source": [
    "print(\"Observação referente ao tempo livre dos alunos\")\n",
    "print(df.freetime.value_counts())\n",
    "df.freetime.value_counts().plot()"
   ]
  },
  {
   "cell_type": "markdown",
   "metadata": {},
   "source": [
    "#### Será que alunos que tem uma qualidade baixa nas relações familiares, tem uma tendencia a ter notas baixas?"
   ]
  },
  {
   "cell_type": "code",
   "execution_count": 94,
   "metadata": {},
   "outputs": [
    {
     "data": {
      "text/html": [
       "<div>\n",
       "<style scoped>\n",
       "    .dataframe tbody tr th:only-of-type {\n",
       "        vertical-align: middle;\n",
       "    }\n",
       "\n",
       "    .dataframe tbody tr th {\n",
       "        vertical-align: top;\n",
       "    }\n",
       "\n",
       "    .dataframe thead th {\n",
       "        text-align: right;\n",
       "    }\n",
       "</style>\n",
       "<table border=\"1\" class=\"dataframe\">\n",
       "  <thead>\n",
       "    <tr style=\"text-align: right;\">\n",
       "      <th></th>\n",
       "      <th>Variavel</th>\n",
       "      <th>Descrição</th>\n",
       "      <th>Tipo</th>\n",
       "    </tr>\n",
       "  </thead>\n",
       "  <tbody>\n",
       "    <tr>\n",
       "      <th>0</th>\n",
       "      <td>sex</td>\n",
       "      <td>sexo</td>\n",
       "      <td>categorica 0 - 1</td>\n",
       "    </tr>\n",
       "    <tr>\n",
       "      <th>1</th>\n",
       "      <td>age</td>\n",
       "      <td>idade</td>\n",
       "      <td>continua</td>\n",
       "    </tr>\n",
       "    <tr>\n",
       "      <th>2</th>\n",
       "      <td>famsize</td>\n",
       "      <td>tamanho da família; LE3 - famílias com no máxi...</td>\n",
       "      <td>categorica 0 - 1</td>\n",
       "    </tr>\n",
       "    <tr>\n",
       "      <th>3</th>\n",
       "      <td>Pstatus</td>\n",
       "      <td>status de habitação com os pais; T - mora junt...</td>\n",
       "      <td>categorica 0 - 1</td>\n",
       "    </tr>\n",
       "    <tr>\n",
       "      <th>4</th>\n",
       "      <td>traveltime</td>\n",
       "      <td>tempo de viagem entre escola e casa; 1 - &lt;15 m...</td>\n",
       "      <td>categorica ordinal</td>\n",
       "    </tr>\n",
       "    <tr>\n",
       "      <th>5</th>\n",
       "      <td>studytime</td>\n",
       "      <td>tempo de estudo semanal; 1 - &lt;2 horas, 2 - 2 a...</td>\n",
       "      <td>categorica ordinal</td>\n",
       "    </tr>\n",
       "    <tr>\n",
       "      <th>6</th>\n",
       "      <td>schoolsup</td>\n",
       "      <td>suporte educacional extra escola</td>\n",
       "      <td>categorica 0 - 1</td>\n",
       "    </tr>\n",
       "    <tr>\n",
       "      <th>7</th>\n",
       "      <td>famsup</td>\n",
       "      <td>suporte educacional da família</td>\n",
       "      <td>categorica 0 - 1</td>\n",
       "    </tr>\n",
       "    <tr>\n",
       "      <th>8</th>\n",
       "      <td>paid</td>\n",
       "      <td>pagou aulas particulares por fora</td>\n",
       "      <td>categorica 0 - 1</td>\n",
       "    </tr>\n",
       "    <tr>\n",
       "      <th>9</th>\n",
       "      <td>activities</td>\n",
       "      <td>atividades extra-curriculares</td>\n",
       "      <td>categorica 0 - 1</td>\n",
       "    </tr>\n",
       "    <tr>\n",
       "      <th>10</th>\n",
       "      <td>internet</td>\n",
       "      <td>acesso a internet em casa</td>\n",
       "      <td>categorica 0 - 1</td>\n",
       "    </tr>\n",
       "    <tr>\n",
       "      <th>11</th>\n",
       "      <td>romantic</td>\n",
       "      <td>se está num relacionamento</td>\n",
       "      <td>categorica 0 - 1</td>\n",
       "    </tr>\n",
       "    <tr>\n",
       "      <th>12</th>\n",
       "      <td>famrel</td>\n",
       "      <td>qualidade das relações familiares; 1 - muito r...</td>\n",
       "      <td>categorica ordinal</td>\n",
       "    </tr>\n",
       "    <tr>\n",
       "      <th>13</th>\n",
       "      <td>freetime</td>\n",
       "      <td>tempo livre após escola; 1 - muito pouco até 5...</td>\n",
       "      <td>categorica ordinal</td>\n",
       "    </tr>\n",
       "    <tr>\n",
       "      <th>14</th>\n",
       "      <td>goout</td>\n",
       "      <td>relaciona-se com amigos; 1 - muito pouco até 5...</td>\n",
       "      <td>categorica ordinal</td>\n",
       "    </tr>\n",
       "    <tr>\n",
       "      <th>15</th>\n",
       "      <td>absences</td>\n",
       "      <td>quantidade de faltas na escola</td>\n",
       "      <td>continua</td>\n",
       "    </tr>\n",
       "    <tr>\n",
       "      <th>16</th>\n",
       "      <td>G3</td>\n",
       "      <td>nota média final no ensino médio</td>\n",
       "      <td>continua</td>\n",
       "    </tr>\n",
       "  </tbody>\n",
       "</table>\n",
       "</div>"
      ],
      "text/plain": [
       "      Variavel                                          Descrição  \\\n",
       "0          sex                                               sexo   \n",
       "1          age                                              idade   \n",
       "2      famsize  tamanho da família; LE3 - famílias com no máxi...   \n",
       "3      Pstatus  status de habitação com os pais; T - mora junt...   \n",
       "4   traveltime  tempo de viagem entre escola e casa; 1 - <15 m...   \n",
       "5    studytime  tempo de estudo semanal; 1 - <2 horas, 2 - 2 a...   \n",
       "6    schoolsup                   suporte educacional extra escola   \n",
       "7       famsup                     suporte educacional da família   \n",
       "8         paid                  pagou aulas particulares por fora   \n",
       "9   activities                      atividades extra-curriculares   \n",
       "10    internet                          acesso a internet em casa   \n",
       "11    romantic                         se está num relacionamento   \n",
       "12      famrel  qualidade das relações familiares; 1 - muito r...   \n",
       "13    freetime  tempo livre após escola; 1 - muito pouco até 5...   \n",
       "14       goout  relaciona-se com amigos; 1 - muito pouco até 5...   \n",
       "15    absences                     quantidade de faltas na escola   \n",
       "16          G3                   nota média final no ensino médio   \n",
       "\n",
       "                  Tipo  \n",
       "0     categorica 0 - 1  \n",
       "1             continua  \n",
       "2     categorica 0 - 1  \n",
       "3     categorica 0 - 1  \n",
       "4   categorica ordinal  \n",
       "5   categorica ordinal  \n",
       "6     categorica 0 - 1  \n",
       "7     categorica 0 - 1  \n",
       "8     categorica 0 - 1  \n",
       "9     categorica 0 - 1  \n",
       "10    categorica 0 - 1  \n",
       "11    categorica 0 - 1  \n",
       "12  categorica ordinal  \n",
       "13  categorica ordinal  \n",
       "14  categorica ordinal  \n",
       "15            continua  \n",
       "16            continua  "
      ]
     },
     "execution_count": 94,
     "metadata": {},
     "output_type": "execute_result"
    }
   ],
   "source": [
    "Dicionário_de_Dados"
   ]
  },
  {
   "cell_type": "code",
   "execution_count": 95,
   "metadata": {},
   "outputs": [
    {
     "name": "stdout",
     "output_type": "stream",
     "text": [
      "            famrel           G3\n",
      "count  1014.000000  1014.000000\n",
      "mean      4.022682    11.362919\n",
      "std       0.796388     3.863470\n",
      "min       2.000000     0.000000\n",
      "25%       4.000000    10.000000\n",
      "50%       4.000000    11.000000\n",
      "75%       5.000000    14.000000\n",
      "max       5.000000    20.000000\n"
     ]
    },
    {
     "data": {
      "text/plain": [
       "<AxesSubplot:>"
      ]
     },
     "execution_count": 95,
     "metadata": {},
     "output_type": "execute_result"
    },
    {
     "data": {
      "image/png": "[encoded data removed]",
      "text/plain": [
       "<Figure size 432x288 with 1 Axes>"
      ]
     },
     "metadata": {
      "needs_background": "light"
     },
     "output_type": "display_data"
    }
   ],
   "source": [
    "df_teste = df[['famrel', 'G3']]\n",
    "print(df_teste[df_teste['famrel']!=1].describe())\n",
    "df_teste[df_teste['famrel']!=1].describe().plot()"
   ]
  },
  {
   "cell_type": "markdown",
   "metadata": {},
   "source": [
    "- O gráfico demonstra que a nota maxima obtida foi de 20\n",
    "- Média 11.36\n",
    "- Quartis 25 = 10\n",
    "- Quartis 50 = 11\n",
    "- Quartis 75 = 14"
   ]
  },
  {
   "cell_type": "code",
   "execution_count": 96,
   "metadata": {},
   "outputs": [
    {
     "name": "stdout",
     "output_type": "stream",
     "text": [
      "       famrel         G3\n",
      "count    30.0  30.000000\n",
      "mean      1.0  10.633333\n",
      "std       0.0   3.908288\n",
      "min       1.0   0.000000\n",
      "25%       1.0   9.000000\n",
      "50%       1.0  11.000000\n",
      "75%       1.0  12.750000\n",
      "max       1.0  17.000000\n"
     ]
    },
    {
     "data": {
      "text/plain": [
       "<AxesSubplot:>"
      ]
     },
     "execution_count": 96,
     "metadata": {},
     "output_type": "execute_result"
    },
    {
     "data": {
      "image/png": "[encoded data removed]",
      "text/plain": [
       "<Figure size 432x288 with 1 Axes>"
      ]
     },
     "metadata": {
      "needs_background": "light"
     },
     "output_type": "display_data"
    }
   ],
   "source": [
    "df_teste = df[['famrel', 'G3']]\n",
    "print(df_teste[df_teste['famrel']==1].describe())\n",
    "df_teste[df_teste['famrel']==1].describe().plot()"
   ]
  },
  {
   "cell_type": "markdown",
   "metadata": {},
   "source": [
    "- O gráfico demonstra que a nota maxima obtida foi de 17\n",
    "- Média 10.63\n",
    "- Quartis 25 = 9\n",
    "- Quartis 50 = 11\n",
    "- Quartis 75 = 12.75\n",
    "\n",
    "#### Em relação a qualidade das familias pode se dizer que o valor das avaliações tem uma queda quando a qualidade das relações familiares não são tão boas."
   ]
  },
  {
   "cell_type": "markdown",
   "metadata": {},
   "source": [
    "#### Será que um aluno que tem trajeto maior de deslocamento até a escola, tem mais chances de faltar a aula? Verifique se alguma variavel tem uma alteração de impacto no conjunto de dados?"
   ]
  },
  {
   "cell_type": "code",
   "execution_count": 110,
   "metadata": {},
   "outputs": [
    {
     "data": {
      "image/png": "[encoded data removed]",
      "text/plain": [
       "<Figure size 432x288 with 1 Axes>"
      ]
     },
     "metadata": {
      "needs_background": "light"
     },
     "output_type": "display_data"
    }
   ],
   "source": [
    "plt.hist(df.absences, bins = 30)\n",
    "plt.title(\"Distribuição da variável abscences\")\n",
    "plt.show()"
   ]
  },
  {
   "cell_type": "code",
   "execution_count": 97,
   "metadata": {},
   "outputs": [
    {
     "data": {
      "text/html": [
       "<div>\n",
       "<style scoped>\n",
       "    .dataframe tbody tr th:only-of-type {\n",
       "        vertical-align: middle;\n",
       "    }\n",
       "\n",
       "    .dataframe tbody tr th {\n",
       "        vertical-align: top;\n",
       "    }\n",
       "\n",
       "    .dataframe thead th {\n",
       "        text-align: right;\n",
       "    }\n",
       "</style>\n",
       "<table border=\"1\" class=\"dataframe\">\n",
       "  <thead>\n",
       "    <tr style=\"text-align: right;\">\n",
       "      <th></th>\n",
       "      <th>traveltime</th>\n",
       "      <th>absences</th>\n",
       "      <th>G3</th>\n",
       "    </tr>\n",
       "  </thead>\n",
       "  <tbody>\n",
       "    <tr>\n",
       "      <th>0</th>\n",
       "      <td>2</td>\n",
       "      <td>6</td>\n",
       "      <td>6</td>\n",
       "    </tr>\n",
       "    <tr>\n",
       "      <th>1</th>\n",
       "      <td>1</td>\n",
       "      <td>4</td>\n",
       "      <td>6</td>\n",
       "    </tr>\n",
       "    <tr>\n",
       "      <th>2</th>\n",
       "      <td>1</td>\n",
       "      <td>10</td>\n",
       "      <td>10</td>\n",
       "    </tr>\n",
       "    <tr>\n",
       "      <th>3</th>\n",
       "      <td>1</td>\n",
       "      <td>2</td>\n",
       "      <td>15</td>\n",
       "    </tr>\n",
       "    <tr>\n",
       "      <th>4</th>\n",
       "      <td>1</td>\n",
       "      <td>4</td>\n",
       "      <td>10</td>\n",
       "    </tr>\n",
       "  </tbody>\n",
       "</table>\n",
       "</div>"
      ],
      "text/plain": [
       "   traveltime  absences  G3\n",
       "0           2         6   6\n",
       "1           1         4   6\n",
       "2           1        10  10\n",
       "3           1         2  15\n",
       "4           1         4  10"
      ]
     },
     "execution_count": 97,
     "metadata": {},
     "output_type": "execute_result"
    }
   ],
   "source": [
    "df_teste = df[['traveltime', 'absences', 'G3']]\n",
    "df_teste.head()"
   ]
  },
  {
   "cell_type": "code",
   "execution_count": 98,
   "metadata": {},
   "outputs": [
    {
     "name": "stdout",
     "output_type": "stream",
     "text": [
      "             age  traveltime  studytime     famrel   freetime      goout  \\\n",
      "count  24.000000        24.0  24.000000  24.000000  24.000000  24.000000   \n",
      "mean   16.333333         4.0   2.083333   4.125000   3.333333   3.750000   \n",
      "std     1.129319         0.0   1.017955   1.115601   1.167184   1.390965   \n",
      "min    15.000000         4.0   1.000000   1.000000   1.000000   1.000000   \n",
      "25%    15.000000         4.0   1.000000   4.000000   3.000000   2.750000   \n",
      "50%    16.000000         4.0   2.000000   4.000000   3.000000   4.500000   \n",
      "75%    17.000000         4.0   3.000000   5.000000   4.000000   5.000000   \n",
      "max    18.000000         4.0   4.000000   5.000000   5.000000   5.000000   \n",
      "\n",
      "        absences         G3  \n",
      "count  24.000000  24.000000  \n",
      "mean    3.500000  10.166667  \n",
      "std     4.263087   2.884240  \n",
      "min     0.000000   0.000000  \n",
      "25%     0.000000   9.750000  \n",
      "50%     2.000000  10.000000  \n",
      "75%     6.000000  11.000000  \n",
      "max    14.000000  16.000000  \n"
     ]
    },
    {
     "data": {
      "image/png": "[encoded data removed]",
      "text/plain": [
       "<Figure size 1080x720 with 9 Axes>"
      ]
     },
     "metadata": {
      "needs_background": "light"
     },
     "output_type": "display_data"
    }
   ],
   "source": [
    "filtro = df[df['traveltime']==4]\n",
    "print(filtro.describe())\n",
    "filtro.hist(figsize=[15,10])\n",
    "filtro2 = df[df['traveltime']==4].describe()"
   ]
  },
  {
   "cell_type": "code",
   "execution_count": 99,
   "metadata": {},
   "outputs": [
    {
     "name": "stdout",
     "output_type": "stream",
     "text": [
      "               age   traveltime    studytime       famrel     freetime  \\\n",
      "count  1020.000000  1020.000000  1020.000000  1020.000000  1020.000000   \n",
      "mean     16.735294     1.464706     1.967647     3.931373     3.198039   \n",
      "std       1.241469     0.632556     0.829966     0.928872     1.028541   \n",
      "min      15.000000     1.000000     1.000000     1.000000     1.000000   \n",
      "25%      16.000000     1.000000     1.000000     4.000000     3.000000   \n",
      "50%      17.000000     1.000000     2.000000     4.000000     3.000000   \n",
      "75%      18.000000     2.000000     2.000000     5.000000     4.000000   \n",
      "max      22.000000     3.000000     4.000000     5.000000     5.000000   \n",
      "\n",
      "             goout     absences           G3  \n",
      "count  1020.000000  1020.000000  1020.000000  \n",
      "mean      3.142157     4.456863    11.369608  \n",
      "std       1.143479     6.248305     3.881672  \n",
      "min       1.000000     0.000000     0.000000  \n",
      "25%       2.000000     0.000000    10.000000  \n",
      "50%       3.000000     2.000000    11.000000  \n",
      "75%       4.000000     6.000000    14.000000  \n",
      "max       5.000000    75.000000    20.000000  \n"
     ]
    },
    {
     "data": {
      "image/png": "[encoded data removed]",
      "text/plain": [
       "<Figure size 1080x720 with 9 Axes>"
      ]
     },
     "metadata": {
      "needs_background": "light"
     },
     "output_type": "display_data"
    }
   ],
   "source": [
    "print(df[df['traveltime']!= 4].describe())\n",
    "df[df['traveltime']!= 4].hist(figsize=[15,10])\n",
    "absences_desc = df[df['traveltime']!= 4].describe()"
   ]
  },
  {
   "cell_type": "code",
   "execution_count": 100,
   "metadata": {},
   "outputs": [
    {
     "data": {
      "text/plain": [
       "count    1020.000000\n",
       "mean        4.456863\n",
       "std         6.248305\n",
       "min         0.000000\n",
       "25%         0.000000\n",
       "50%         2.000000\n",
       "75%         6.000000\n",
       "max        75.000000\n",
       "Name: absences, dtype: float64"
      ]
     },
     "execution_count": 100,
     "metadata": {},
     "output_type": "execute_result"
    }
   ],
   "source": [
    "absences_desc['absences']"
   ]
  },
  {
   "cell_type": "code",
   "execution_count": 101,
   "metadata": {},
   "outputs": [
    {
     "data": {
      "text/plain": [
       "count    24.000000\n",
       "mean      3.500000\n",
       "std       4.263087\n",
       "min       0.000000\n",
       "25%       0.000000\n",
       "50%       2.000000\n",
       "75%       6.000000\n",
       "max      14.000000\n",
       "Name: absences, dtype: float64"
      ]
     },
     "execution_count": 101,
     "metadata": {},
     "output_type": "execute_result"
    }
   ],
   "source": [
    "filtro2['absences']"
   ]
  },
  {
   "cell_type": "markdown",
   "metadata": {},
   "source": [
    "#### Referente as faltas ao deslocamento dos alunos, não houve um aumento significativo no numero de faltas, houve um pequeno acrescimo no numero de faltas e nas notas dos alunos."
   ]
  },
  {
   "cell_type": "markdown",
   "metadata": {},
   "source": [
    "### Conclusôes"
   ]
  },
  {
   "cell_type": "markdown",
   "metadata": {},
   "source": [
    "#### Referente a análise exploratória vimos que auguns valores estastisticos mudam de acordo com alguma manipulação no conjunto de dados, mas não encontramos algo representativo que demostre uma tendencia no conjunto de dados.\n",
    "\n",
    "- Insights\n",
    "- 56% do dataset é formado por pessoas do sexo feminino\n",
    "- A idade está com uma concentração forte entre a idade de 15 a 19 anos\n",
    "- cerca de 70%  das familias tem mais de 3 pessoas\n",
    "- cerca de 80% dos alunos moram com os pais\n",
    "- Concluimos que o deslocamento até a escola não imapacta nas notas, e não gera maior numero de faltas por parte dos alunos"
   ]
  },
  {
   "cell_type": "markdown",
   "metadata": {},
   "source": [
    "#### Próximo passo é realizar um tratamento nas variaveis, realizar a normalização e encontrat um melhor conjunto de features para ter uma base representativa para treinar os modelos."
   ]
  },
  {
   "cell_type": "markdown",
   "metadata": {},
   "source": [
    "### Tratamento de variaveis"
   ]
  },
  {
   "cell_type": "code",
   "execution_count": 102,
   "metadata": {},
   "outputs": [
    {
     "data": {
      "text/html": [
       "<div>\n",
       "<style scoped>\n",
       "    .dataframe tbody tr th:only-of-type {\n",
       "        vertical-align: middle;\n",
       "    }\n",
       "\n",
       "    .dataframe tbody tr th {\n",
       "        vertical-align: top;\n",
       "    }\n",
       "\n",
       "    .dataframe thead th {\n",
       "        text-align: right;\n",
       "    }\n",
       "</style>\n",
       "<table border=\"1\" class=\"dataframe\">\n",
       "  <thead>\n",
       "    <tr style=\"text-align: right;\">\n",
       "      <th></th>\n",
       "      <th>Variavel</th>\n",
       "      <th>Descrição</th>\n",
       "      <th>Tipo</th>\n",
       "    </tr>\n",
       "  </thead>\n",
       "  <tbody>\n",
       "    <tr>\n",
       "      <th>0</th>\n",
       "      <td>sex</td>\n",
       "      <td>sexo</td>\n",
       "      <td>categorica 0 - 1</td>\n",
       "    </tr>\n",
       "    <tr>\n",
       "      <th>2</th>\n",
       "      <td>famsize</td>\n",
       "      <td>tamanho da família; LE3 - famílias com no máxi...</td>\n",
       "      <td>categorica 0 - 1</td>\n",
       "    </tr>\n",
       "    <tr>\n",
       "      <th>3</th>\n",
       "      <td>Pstatus</td>\n",
       "      <td>status de habitação com os pais; T - mora junt...</td>\n",
       "      <td>categorica 0 - 1</td>\n",
       "    </tr>\n",
       "    <tr>\n",
       "      <th>6</th>\n",
       "      <td>schoolsup</td>\n",
       "      <td>suporte educacional extra escola</td>\n",
       "      <td>categorica 0 - 1</td>\n",
       "    </tr>\n",
       "    <tr>\n",
       "      <th>7</th>\n",
       "      <td>famsup</td>\n",
       "      <td>suporte educacional da família</td>\n",
       "      <td>categorica 0 - 1</td>\n",
       "    </tr>\n",
       "    <tr>\n",
       "      <th>8</th>\n",
       "      <td>paid</td>\n",
       "      <td>pagou aulas particulares por fora</td>\n",
       "      <td>categorica 0 - 1</td>\n",
       "    </tr>\n",
       "    <tr>\n",
       "      <th>9</th>\n",
       "      <td>activities</td>\n",
       "      <td>atividades extra-curriculares</td>\n",
       "      <td>categorica 0 - 1</td>\n",
       "    </tr>\n",
       "    <tr>\n",
       "      <th>10</th>\n",
       "      <td>internet</td>\n",
       "      <td>acesso a internet em casa</td>\n",
       "      <td>categorica 0 - 1</td>\n",
       "    </tr>\n",
       "    <tr>\n",
       "      <th>11</th>\n",
       "      <td>romantic</td>\n",
       "      <td>se está num relacionamento</td>\n",
       "      <td>categorica 0 - 1</td>\n",
       "    </tr>\n",
       "  </tbody>\n",
       "</table>\n",
       "</div>"
      ],
      "text/plain": [
       "      Variavel                                          Descrição  \\\n",
       "0          sex                                               sexo   \n",
       "2      famsize  tamanho da família; LE3 - famílias com no máxi...   \n",
       "3      Pstatus  status de habitação com os pais; T - mora junt...   \n",
       "6    schoolsup                   suporte educacional extra escola   \n",
       "7       famsup                     suporte educacional da família   \n",
       "8         paid                  pagou aulas particulares por fora   \n",
       "9   activities                      atividades extra-curriculares   \n",
       "10    internet                          acesso a internet em casa   \n",
       "11    romantic                         se está num relacionamento   \n",
       "\n",
       "                Tipo  \n",
       "0   categorica 0 - 1  \n",
       "2   categorica 0 - 1  \n",
       "3   categorica 0 - 1  \n",
       "6   categorica 0 - 1  \n",
       "7   categorica 0 - 1  \n",
       "8   categorica 0 - 1  \n",
       "9   categorica 0 - 1  \n",
       "10  categorica 0 - 1  \n",
       "11  categorica 0 - 1  "
      ]
     },
     "execution_count": 102,
     "metadata": {},
     "output_type": "execute_result"
    }
   ],
   "source": [
    "Dicionário_de_Dados[Dicionário_de_Dados['Tipo']==\"categorica 0 - 1\"]"
   ]
  },
  {
   "cell_type": "code",
   "execution_count": 103,
   "metadata": {},
   "outputs": [],
   "source": [
    "df.sex = df.sex.map({'M':0, 'F':1})\n",
    "df.famsize = df.famsize.map({'GT3':0,'LE3':1})\n",
    "df.Pstatus = df.Pstatus.map({'T':0,'A':1})\n",
    "df.schoolsup = df.schoolsup.map({'yes':1,'no':0})\n",
    "df.famsup = df.famsup.map({'yes':1,'no':0})\n",
    "df.paid = df.paid.map({'yes':1,'no':0})\n",
    "df.activities = df.activities.map({'yes':1,'no':0})\n",
    "df.internet\t = df.internet\t.map({'yes':1,'no':0})\n",
    "df.romantic = df.romantic.map({'yes':1,'no':0})"
   ]
  },
  {
   "cell_type": "code",
   "execution_count": 104,
   "metadata": {},
   "outputs": [
    {
     "data": {
      "text/html": [
       "<div>\n",
       "<style scoped>\n",
       "    .dataframe tbody tr th:only-of-type {\n",
       "        vertical-align: middle;\n",
       "    }\n",
       "\n",
       "    .dataframe tbody tr th {\n",
       "        vertical-align: top;\n",
       "    }\n",
       "\n",
       "    .dataframe thead th {\n",
       "        text-align: right;\n",
       "    }\n",
       "</style>\n",
       "<table border=\"1\" class=\"dataframe\">\n",
       "  <thead>\n",
       "    <tr style=\"text-align: right;\">\n",
       "      <th></th>\n",
       "      <th>sex</th>\n",
       "      <th>age</th>\n",
       "      <th>famsize</th>\n",
       "      <th>Pstatus</th>\n",
       "      <th>traveltime</th>\n",
       "      <th>studytime</th>\n",
       "      <th>schoolsup</th>\n",
       "      <th>famsup</th>\n",
       "      <th>paid</th>\n",
       "      <th>activities</th>\n",
       "      <th>internet</th>\n",
       "      <th>romantic</th>\n",
       "      <th>famrel</th>\n",
       "      <th>freetime</th>\n",
       "      <th>goout</th>\n",
       "      <th>absences</th>\n",
       "      <th>G3</th>\n",
       "    </tr>\n",
       "  </thead>\n",
       "  <tbody>\n",
       "    <tr>\n",
       "      <th>0</th>\n",
       "      <td>1</td>\n",
       "      <td>18</td>\n",
       "      <td>0</td>\n",
       "      <td>1</td>\n",
       "      <td>2</td>\n",
       "      <td>2</td>\n",
       "      <td>1</td>\n",
       "      <td>0</td>\n",
       "      <td>0</td>\n",
       "      <td>0</td>\n",
       "      <td>0</td>\n",
       "      <td>0</td>\n",
       "      <td>4</td>\n",
       "      <td>3</td>\n",
       "      <td>4</td>\n",
       "      <td>6</td>\n",
       "      <td>6</td>\n",
       "    </tr>\n",
       "    <tr>\n",
       "      <th>1</th>\n",
       "      <td>1</td>\n",
       "      <td>17</td>\n",
       "      <td>0</td>\n",
       "      <td>0</td>\n",
       "      <td>1</td>\n",
       "      <td>2</td>\n",
       "      <td>0</td>\n",
       "      <td>1</td>\n",
       "      <td>0</td>\n",
       "      <td>0</td>\n",
       "      <td>1</td>\n",
       "      <td>0</td>\n",
       "      <td>5</td>\n",
       "      <td>3</td>\n",
       "      <td>3</td>\n",
       "      <td>4</td>\n",
       "      <td>6</td>\n",
       "    </tr>\n",
       "    <tr>\n",
       "      <th>2</th>\n",
       "      <td>1</td>\n",
       "      <td>15</td>\n",
       "      <td>1</td>\n",
       "      <td>0</td>\n",
       "      <td>1</td>\n",
       "      <td>2</td>\n",
       "      <td>1</td>\n",
       "      <td>0</td>\n",
       "      <td>1</td>\n",
       "      <td>0</td>\n",
       "      <td>1</td>\n",
       "      <td>0</td>\n",
       "      <td>4</td>\n",
       "      <td>3</td>\n",
       "      <td>2</td>\n",
       "      <td>10</td>\n",
       "      <td>10</td>\n",
       "    </tr>\n",
       "    <tr>\n",
       "      <th>3</th>\n",
       "      <td>1</td>\n",
       "      <td>15</td>\n",
       "      <td>0</td>\n",
       "      <td>0</td>\n",
       "      <td>1</td>\n",
       "      <td>3</td>\n",
       "      <td>0</td>\n",
       "      <td>1</td>\n",
       "      <td>1</td>\n",
       "      <td>1</td>\n",
       "      <td>1</td>\n",
       "      <td>1</td>\n",
       "      <td>3</td>\n",
       "      <td>2</td>\n",
       "      <td>2</td>\n",
       "      <td>2</td>\n",
       "      <td>15</td>\n",
       "    </tr>\n",
       "    <tr>\n",
       "      <th>4</th>\n",
       "      <td>1</td>\n",
       "      <td>16</td>\n",
       "      <td>0</td>\n",
       "      <td>0</td>\n",
       "      <td>1</td>\n",
       "      <td>2</td>\n",
       "      <td>0</td>\n",
       "      <td>1</td>\n",
       "      <td>1</td>\n",
       "      <td>0</td>\n",
       "      <td>0</td>\n",
       "      <td>0</td>\n",
       "      <td>4</td>\n",
       "      <td>3</td>\n",
       "      <td>2</td>\n",
       "      <td>4</td>\n",
       "      <td>10</td>\n",
       "    </tr>\n",
       "  </tbody>\n",
       "</table>\n",
       "</div>"
      ],
      "text/plain": [
       "   sex  age  famsize  Pstatus  traveltime  studytime  schoolsup  famsup  paid  \\\n",
       "0    1   18        0        1           2          2          1       0     0   \n",
       "1    1   17        0        0           1          2          0       1     0   \n",
       "2    1   15        1        0           1          2          1       0     1   \n",
       "3    1   15        0        0           1          3          0       1     1   \n",
       "4    1   16        0        0           1          2          0       1     1   \n",
       "\n",
       "   activities  internet  romantic  famrel  freetime  goout  absences  G3  \n",
       "0           0         0         0       4         3      4         6   6  \n",
       "1           0         1         0       5         3      3         4   6  \n",
       "2           0         1         0       4         3      2        10  10  \n",
       "3           1         1         1       3         2      2         2  15  \n",
       "4           0         0         0       4         3      2         4  10  "
      ]
     },
     "execution_count": 104,
     "metadata": {},
     "output_type": "execute_result"
    }
   ],
   "source": [
    "df.head()"
   ]
  },
  {
   "cell_type": "code",
   "execution_count": 105,
   "metadata": {},
   "outputs": [
    {
     "data": {
      "text/html": [
       "<div>\n",
       "<style scoped>\n",
       "    .dataframe tbody tr th:only-of-type {\n",
       "        vertical-align: middle;\n",
       "    }\n",
       "\n",
       "    .dataframe tbody tr th {\n",
       "        vertical-align: top;\n",
       "    }\n",
       "\n",
       "    .dataframe thead th {\n",
       "        text-align: right;\n",
       "    }\n",
       "</style>\n",
       "<table border=\"1\" class=\"dataframe\">\n",
       "  <thead>\n",
       "    <tr style=\"text-align: right;\">\n",
       "      <th></th>\n",
       "      <th>0</th>\n",
       "      <th>1</th>\n",
       "      <th>2</th>\n",
       "      <th>3</th>\n",
       "      <th>4</th>\n",
       "      <th>5</th>\n",
       "      <th>6</th>\n",
       "      <th>7</th>\n",
       "      <th>8</th>\n",
       "      <th>9</th>\n",
       "      <th>10</th>\n",
       "      <th>11</th>\n",
       "      <th>12</th>\n",
       "      <th>13</th>\n",
       "      <th>14</th>\n",
       "    </tr>\n",
       "  </thead>\n",
       "  <tbody>\n",
       "    <tr>\n",
       "      <th>sex</th>\n",
       "      <td>1</td>\n",
       "      <td>1</td>\n",
       "      <td>1</td>\n",
       "      <td>1</td>\n",
       "      <td>1</td>\n",
       "      <td>0</td>\n",
       "      <td>0</td>\n",
       "      <td>1</td>\n",
       "      <td>0</td>\n",
       "      <td>0</td>\n",
       "      <td>1</td>\n",
       "      <td>1</td>\n",
       "      <td>0</td>\n",
       "      <td>0</td>\n",
       "      <td>0</td>\n",
       "    </tr>\n",
       "    <tr>\n",
       "      <th>age</th>\n",
       "      <td>18</td>\n",
       "      <td>17</td>\n",
       "      <td>15</td>\n",
       "      <td>15</td>\n",
       "      <td>16</td>\n",
       "      <td>16</td>\n",
       "      <td>16</td>\n",
       "      <td>17</td>\n",
       "      <td>15</td>\n",
       "      <td>15</td>\n",
       "      <td>15</td>\n",
       "      <td>15</td>\n",
       "      <td>15</td>\n",
       "      <td>15</td>\n",
       "      <td>15</td>\n",
       "    </tr>\n",
       "    <tr>\n",
       "      <th>famsize</th>\n",
       "      <td>0</td>\n",
       "      <td>0</td>\n",
       "      <td>1</td>\n",
       "      <td>0</td>\n",
       "      <td>0</td>\n",
       "      <td>1</td>\n",
       "      <td>1</td>\n",
       "      <td>0</td>\n",
       "      <td>1</td>\n",
       "      <td>0</td>\n",
       "      <td>0</td>\n",
       "      <td>0</td>\n",
       "      <td>1</td>\n",
       "      <td>0</td>\n",
       "      <td>0</td>\n",
       "    </tr>\n",
       "    <tr>\n",
       "      <th>Pstatus</th>\n",
       "      <td>1</td>\n",
       "      <td>0</td>\n",
       "      <td>0</td>\n",
       "      <td>0</td>\n",
       "      <td>0</td>\n",
       "      <td>0</td>\n",
       "      <td>0</td>\n",
       "      <td>1</td>\n",
       "      <td>1</td>\n",
       "      <td>0</td>\n",
       "      <td>0</td>\n",
       "      <td>0</td>\n",
       "      <td>0</td>\n",
       "      <td>0</td>\n",
       "      <td>1</td>\n",
       "    </tr>\n",
       "    <tr>\n",
       "      <th>traveltime</th>\n",
       "      <td>2</td>\n",
       "      <td>1</td>\n",
       "      <td>1</td>\n",
       "      <td>1</td>\n",
       "      <td>1</td>\n",
       "      <td>1</td>\n",
       "      <td>1</td>\n",
       "      <td>2</td>\n",
       "      <td>1</td>\n",
       "      <td>1</td>\n",
       "      <td>1</td>\n",
       "      <td>3</td>\n",
       "      <td>1</td>\n",
       "      <td>2</td>\n",
       "      <td>1</td>\n",
       "    </tr>\n",
       "    <tr>\n",
       "      <th>studytime</th>\n",
       "      <td>2</td>\n",
       "      <td>2</td>\n",
       "      <td>2</td>\n",
       "      <td>3</td>\n",
       "      <td>2</td>\n",
       "      <td>2</td>\n",
       "      <td>2</td>\n",
       "      <td>2</td>\n",
       "      <td>2</td>\n",
       "      <td>2</td>\n",
       "      <td>2</td>\n",
       "      <td>3</td>\n",
       "      <td>1</td>\n",
       "      <td>2</td>\n",
       "      <td>3</td>\n",
       "    </tr>\n",
       "    <tr>\n",
       "      <th>schoolsup</th>\n",
       "      <td>1</td>\n",
       "      <td>0</td>\n",
       "      <td>1</td>\n",
       "      <td>0</td>\n",
       "      <td>0</td>\n",
       "      <td>0</td>\n",
       "      <td>0</td>\n",
       "      <td>1</td>\n",
       "      <td>0</td>\n",
       "      <td>0</td>\n",
       "      <td>0</td>\n",
       "      <td>0</td>\n",
       "      <td>0</td>\n",
       "      <td>0</td>\n",
       "      <td>0</td>\n",
       "    </tr>\n",
       "    <tr>\n",
       "      <th>famsup</th>\n",
       "      <td>0</td>\n",
       "      <td>1</td>\n",
       "      <td>0</td>\n",
       "      <td>1</td>\n",
       "      <td>1</td>\n",
       "      <td>1</td>\n",
       "      <td>0</td>\n",
       "      <td>1</td>\n",
       "      <td>1</td>\n",
       "      <td>1</td>\n",
       "      <td>1</td>\n",
       "      <td>1</td>\n",
       "      <td>1</td>\n",
       "      <td>1</td>\n",
       "      <td>1</td>\n",
       "    </tr>\n",
       "    <tr>\n",
       "      <th>paid</th>\n",
       "      <td>0</td>\n",
       "      <td>0</td>\n",
       "      <td>1</td>\n",
       "      <td>1</td>\n",
       "      <td>1</td>\n",
       "      <td>1</td>\n",
       "      <td>0</td>\n",
       "      <td>0</td>\n",
       "      <td>1</td>\n",
       "      <td>1</td>\n",
       "      <td>1</td>\n",
       "      <td>0</td>\n",
       "      <td>1</td>\n",
       "      <td>1</td>\n",
       "      <td>0</td>\n",
       "    </tr>\n",
       "    <tr>\n",
       "      <th>activities</th>\n",
       "      <td>0</td>\n",
       "      <td>0</td>\n",
       "      <td>0</td>\n",
       "      <td>1</td>\n",
       "      <td>0</td>\n",
       "      <td>1</td>\n",
       "      <td>0</td>\n",
       "      <td>0</td>\n",
       "      <td>0</td>\n",
       "      <td>1</td>\n",
       "      <td>0</td>\n",
       "      <td>1</td>\n",
       "      <td>1</td>\n",
       "      <td>0</td>\n",
       "      <td>0</td>\n",
       "    </tr>\n",
       "    <tr>\n",
       "      <th>internet</th>\n",
       "      <td>0</td>\n",
       "      <td>1</td>\n",
       "      <td>1</td>\n",
       "      <td>1</td>\n",
       "      <td>0</td>\n",
       "      <td>1</td>\n",
       "      <td>1</td>\n",
       "      <td>0</td>\n",
       "      <td>1</td>\n",
       "      <td>1</td>\n",
       "      <td>1</td>\n",
       "      <td>1</td>\n",
       "      <td>1</td>\n",
       "      <td>1</td>\n",
       "      <td>1</td>\n",
       "    </tr>\n",
       "    <tr>\n",
       "      <th>romantic</th>\n",
       "      <td>0</td>\n",
       "      <td>0</td>\n",
       "      <td>0</td>\n",
       "      <td>1</td>\n",
       "      <td>0</td>\n",
       "      <td>0</td>\n",
       "      <td>0</td>\n",
       "      <td>0</td>\n",
       "      <td>0</td>\n",
       "      <td>0</td>\n",
       "      <td>0</td>\n",
       "      <td>0</td>\n",
       "      <td>0</td>\n",
       "      <td>0</td>\n",
       "      <td>1</td>\n",
       "    </tr>\n",
       "    <tr>\n",
       "      <th>famrel</th>\n",
       "      <td>4</td>\n",
       "      <td>5</td>\n",
       "      <td>4</td>\n",
       "      <td>3</td>\n",
       "      <td>4</td>\n",
       "      <td>5</td>\n",
       "      <td>4</td>\n",
       "      <td>4</td>\n",
       "      <td>4</td>\n",
       "      <td>5</td>\n",
       "      <td>3</td>\n",
       "      <td>5</td>\n",
       "      <td>4</td>\n",
       "      <td>5</td>\n",
       "      <td>4</td>\n",
       "    </tr>\n",
       "    <tr>\n",
       "      <th>freetime</th>\n",
       "      <td>3</td>\n",
       "      <td>3</td>\n",
       "      <td>3</td>\n",
       "      <td>2</td>\n",
       "      <td>3</td>\n",
       "      <td>4</td>\n",
       "      <td>4</td>\n",
       "      <td>1</td>\n",
       "      <td>2</td>\n",
       "      <td>5</td>\n",
       "      <td>3</td>\n",
       "      <td>2</td>\n",
       "      <td>3</td>\n",
       "      <td>4</td>\n",
       "      <td>5</td>\n",
       "    </tr>\n",
       "    <tr>\n",
       "      <th>goout</th>\n",
       "      <td>4</td>\n",
       "      <td>3</td>\n",
       "      <td>2</td>\n",
       "      <td>2</td>\n",
       "      <td>2</td>\n",
       "      <td>2</td>\n",
       "      <td>4</td>\n",
       "      <td>4</td>\n",
       "      <td>2</td>\n",
       "      <td>1</td>\n",
       "      <td>3</td>\n",
       "      <td>2</td>\n",
       "      <td>3</td>\n",
       "      <td>3</td>\n",
       "      <td>2</td>\n",
       "    </tr>\n",
       "    <tr>\n",
       "      <th>absences</th>\n",
       "      <td>6</td>\n",
       "      <td>4</td>\n",
       "      <td>10</td>\n",
       "      <td>2</td>\n",
       "      <td>4</td>\n",
       "      <td>10</td>\n",
       "      <td>0</td>\n",
       "      <td>6</td>\n",
       "      <td>0</td>\n",
       "      <td>0</td>\n",
       "      <td>0</td>\n",
       "      <td>4</td>\n",
       "      <td>2</td>\n",
       "      <td>2</td>\n",
       "      <td>0</td>\n",
       "    </tr>\n",
       "    <tr>\n",
       "      <th>G3</th>\n",
       "      <td>6</td>\n",
       "      <td>6</td>\n",
       "      <td>10</td>\n",
       "      <td>15</td>\n",
       "      <td>10</td>\n",
       "      <td>15</td>\n",
       "      <td>11</td>\n",
       "      <td>6</td>\n",
       "      <td>19</td>\n",
       "      <td>15</td>\n",
       "      <td>9</td>\n",
       "      <td>12</td>\n",
       "      <td>14</td>\n",
       "      <td>11</td>\n",
       "      <td>16</td>\n",
       "    </tr>\n",
       "  </tbody>\n",
       "</table>\n",
       "</div>"
      ],
      "text/plain": [
       "            0   1   2   3   4   5   6   7   8   9   10  11  12  13  14\n",
       "sex          1   1   1   1   1   0   0   1   0   0   1   1   0   0   0\n",
       "age         18  17  15  15  16  16  16  17  15  15  15  15  15  15  15\n",
       "famsize      0   0   1   0   0   1   1   0   1   0   0   0   1   0   0\n",
       "Pstatus      1   0   0   0   0   0   0   1   1   0   0   0   0   0   1\n",
       "traveltime   2   1   1   1   1   1   1   2   1   1   1   3   1   2   1\n",
       "studytime    2   2   2   3   2   2   2   2   2   2   2   3   1   2   3\n",
       "schoolsup    1   0   1   0   0   0   0   1   0   0   0   0   0   0   0\n",
       "famsup       0   1   0   1   1   1   0   1   1   1   1   1   1   1   1\n",
       "paid         0   0   1   1   1   1   0   0   1   1   1   0   1   1   0\n",
       "activities   0   0   0   1   0   1   0   0   0   1   0   1   1   0   0\n",
       "internet     0   1   1   1   0   1   1   0   1   1   1   1   1   1   1\n",
       "romantic     0   0   0   1   0   0   0   0   0   0   0   0   0   0   1\n",
       "famrel       4   5   4   3   4   5   4   4   4   5   3   5   4   5   4\n",
       "freetime     3   3   3   2   3   4   4   1   2   5   3   2   3   4   5\n",
       "goout        4   3   2   2   2   2   4   4   2   1   3   2   3   3   2\n",
       "absences     6   4  10   2   4  10   0   6   0   0   0   4   2   2   0\n",
       "G3           6   6  10  15  10  15  11   6  19  15   9  12  14  11  16"
      ]
     },
     "execution_count": 105,
     "metadata": {},
     "output_type": "execute_result"
    }
   ],
   "source": [
    "df[0:15].T.head(17)"
   ]
  },
  {
   "cell_type": "code",
   "execution_count": 106,
   "metadata": {},
   "outputs": [
    {
     "data": {
      "text/plain": [
       "sex           0.031472\n",
       "age          -0.125282\n",
       "famsize       0.061209\n",
       "Pstatus       0.030693\n",
       "traveltime   -0.102627\n",
       "studytime     0.161629\n",
       "schoolsup    -0.079346\n",
       "famsup        0.013313\n",
       "paid         -0.049388\n",
       "activities    0.033998\n",
       "internet      0.107064\n",
       "romantic     -0.098363\n",
       "famrel        0.054461\n",
       "freetime     -0.064890\n",
       "goout        -0.097877\n",
       "absences     -0.045671\n",
       "G3            1.000000\n",
       "Name: G3, dtype: float64"
      ]
     },
     "execution_count": 106,
     "metadata": {},
     "output_type": "execute_result"
    }
   ],
   "source": [
    "df.corr()['G3']"
   ]
  },
  {
   "cell_type": "code",
   "execution_count": 107,
   "metadata": {},
   "outputs": [],
   "source": [
    "#df.isnull().sum()\n",
    "#nulos"
   ]
  },
  {
   "cell_type": "code",
   "execution_count": 113,
   "metadata": {},
   "outputs": [
    {
     "name": "stdout",
     "output_type": "stream",
     "text": [
      "<class 'pandas.core.frame.DataFrame'>\n",
      "RangeIndex: 1044 entries, 0 to 1043\n",
      "Data columns (total 17 columns):\n",
      " #   Column      Non-Null Count  Dtype\n",
      "---  ------      --------------  -----\n",
      " 0   sex         1044 non-null   int64\n",
      " 1   age         1044 non-null   int64\n",
      " 2   famsize     1044 non-null   int64\n",
      " 3   Pstatus     1044 non-null   int64\n",
      " 4   traveltime  1044 non-null   int64\n",
      " 5   studytime   1044 non-null   int64\n",
      " 6   schoolsup   1044 non-null   int64\n",
      " 7   famsup      1044 non-null   int64\n",
      " 8   paid        1044 non-null   int64\n",
      " 9   activities  1044 non-null   int64\n",
      " 10  internet    1044 non-null   int64\n",
      " 11  romantic    1044 non-null   int64\n",
      " 12  famrel      1044 non-null   int64\n",
      " 13  freetime    1044 non-null   int64\n",
      " 14  goout       1044 non-null   int64\n",
      " 15  absences    1044 non-null   int64\n",
      " 16  G3          1044 non-null   int64\n",
      "dtypes: int64(17)\n",
      "memory usage: 138.8 KB\n"
     ]
    }
   ],
   "source": [
    "df.info()"
   ]
  },
  {
   "cell_type": "code",
   "execution_count": 115,
   "metadata": {},
   "outputs": [],
   "source": [
    "from sklearn.model_selection import train_test_split"
   ]
  },
  {
   "cell_type": "code",
   "execution_count": 116,
   "metadata": {},
   "outputs": [
    {
     "name": "stdout",
     "output_type": "stream",
     "text": [
      "(1044, 17)\n",
      "(783, 17)\n",
      "(261, 17)\n"
     ]
    }
   ],
   "source": [
    "dftrain, dftest = train_test_split(df, test_size = 0.25, random_state = 0)\n",
    "print(df.shape)\n",
    "print(dftrain.shape)\n",
    "print(dftest.shape)"
   ]
  },
  {
   "cell_type": "code",
   "execution_count": 121,
   "metadata": {},
   "outputs": [],
   "source": [
    "from sklearn.preprocessing import StandardScaler\n",
    "sc = StandardScaler()"
   ]
  },
  {
   "cell_type": "markdown",
   "metadata": {},
   "source": [
    "### Pre Processamento dos Dados"
   ]
  },
  {
   "cell_type": "code",
   "execution_count": 123,
   "metadata": {},
   "outputs": [],
   "source": [
    "def preprocessamento_completo(df, dataset_de_treino = True, std_scaler = None):\n",
    "\n",
    "    dff = df.copy() # copia do dataset\n",
    "    variaveis_para_normalizar = ['sex', \n",
    "                                 'age', \n",
    "                                 'famsize', \n",
    "                                 'Pstatus', \n",
    "                                 'traveltime', \n",
    "                                 'studytime', \n",
    "                                 'schoolsup', \n",
    "                                 'famsup', \n",
    "                                 'paid', \n",
    "                                 'activities', \n",
    "                                 'internet', \n",
    "                                 'romantic',\n",
    "                                 'famrel', \n",
    "                                 'freetime', \n",
    "                                 'goout', \n",
    "                                 'absences']\n",
    " \n",
    "    if dataset_de_treino:  \n",
    "\n",
    "        #normalização\n",
    "        sc = StandardScaler() #Intanciando o sc\n",
    "        variaveis_norm = sc.fit_transform(dff[variaveis_para_normalizar]) #fitando\n",
    "        \n",
    "        X, y =  np.c_[variaveis_norm], dff.G3.values # Atribuindo valores de X e y nos dados de treino\n",
    "        return X, y, sc\n",
    "    \n",
    "    else:\n",
    "        \n",
    "        #normalização\n",
    "        variaveis_norm = std_scaler.transform(dff[variaveis_para_normalizar]) \n",
    "        \n",
    "        X, y =  np.c_[variaveis_norm], dff.G3.values # Atribuindo valores de X e y nos dados de teste\n",
    "        return X, y"
   ]
  },
  {
   "cell_type": "code",
   "execution_count": 125,
   "metadata": {},
   "outputs": [],
   "source": [
    "Xtrain, ytrain, scaler_train  = preprocessamento_completo(df = dftrain, \n",
    "                                                                         dataset_de_treino = True, \n",
    "                                                                         std_scaler = None)"
   ]
  },
  {
   "cell_type": "code",
   "execution_count": 126,
   "metadata": {},
   "outputs": [
    {
     "data": {
      "text/plain": [
       "((783, 16), (783,), (783, 17))"
      ]
     },
     "execution_count": 126,
     "metadata": {},
     "output_type": "execute_result"
    }
   ],
   "source": [
    "Xtrain.shape, ytrain.shape, dftrain.shape"
   ]
  },
  {
   "cell_type": "code",
   "execution_count": 127,
   "metadata": {},
   "outputs": [],
   "source": [
    "Xtest, ytest = preprocessamento_completo(df = dftest, \n",
    "                                         dataset_de_treino = False, \n",
    "                                         std_scaler = scaler_train)"
   ]
  },
  {
   "cell_type": "code",
   "execution_count": 128,
   "metadata": {},
   "outputs": [
    {
     "data": {
      "text/plain": [
       "((261, 16), (261,), (261, 17))"
      ]
     },
     "execution_count": 128,
     "metadata": {},
     "output_type": "execute_result"
    }
   ],
   "source": [
    "Xtest.shape, ytest.shape, dftest.shape"
   ]
  },
  {
   "cell_type": "markdown",
   "metadata": {},
   "source": [
    "### Treinamento de Modelos e Metricas de Performance"
   ]
  },
  {
   "cell_type": "code",
   "execution_count": 129,
   "metadata": {},
   "outputs": [],
   "source": [
    "#algoritmos\n",
    "from sklearn.linear_model import LinearRegression #Regressão Linear\n",
    "from sklearn.neighbors import KNeighborsRegressor #KNN\n",
    "from sklearn.tree import DecisionTreeRegressor #Arvore de Decisão\n",
    "\n",
    "#metricas de performance\n",
    "from sklearn.metrics import mean_squared_error, r2_score"
   ]
  },
  {
   "cell_type": "code",
   "execution_count": 130,
   "metadata": {},
   "outputs": [],
   "source": [
    "def RMSE(ytrue, ypred):\n",
    "    return np.sqrt(mean_squared_error(y_true = ytrue, y_pred = ypred))"
   ]
  },
  {
   "cell_type": "code",
   "execution_count": 131,
   "metadata": {},
   "outputs": [
    {
     "data": {
      "text/plain": [
       "LinearRegression()"
      ]
     },
     "execution_count": 131,
     "metadata": {},
     "output_type": "execute_result"
    }
   ],
   "source": [
    "lin_reg = LinearRegression()\n",
    "lin_reg.fit(Xtrain, ytrain)"
   ]
  },
  {
   "cell_type": "code",
   "execution_count": 132,
   "metadata": {},
   "outputs": [
    {
     "data": {
      "text/plain": [
       "3.8297761509315533"
      ]
     },
     "execution_count": 132,
     "metadata": {},
     "output_type": "execute_result"
    }
   ],
   "source": [
    "RMSE(ytrue = ytrain, ypred = lin_reg.predict(Xtrain))"
   ]
  },
  {
   "cell_type": "code",
   "execution_count": 133,
   "metadata": {},
   "outputs": [
    {
     "data": {
      "text/plain": [
       "0.10253004022064438"
      ]
     },
     "execution_count": 133,
     "metadata": {},
     "output_type": "execute_result"
    }
   ],
   "source": [
    "r2_score(y_true=ytrain, y_pred=lin_reg.predict(Xtrain))"
   ]
  },
  {
   "cell_type": "code",
   "execution_count": 134,
   "metadata": {},
   "outputs": [
    {
     "name": "stdout",
     "output_type": "stream",
     "text": [
      "K = 1 | RMSE:0.89 / R2: 0.95\n",
      "K = 2 | RMSE:2.53 / R2: 0.61\n",
      "K = 5 | RMSE:3.35 / R2: 0.31\n",
      "K = 10 | RMSE:3.6 / R2: 0.21\n",
      "K = 20 | RMSE:3.73 / R2: 0.15\n",
      "K = 50 | RMSE:3.81 / R2: 0.11\n"
     ]
    }
   ],
   "source": [
    "# knn\n",
    "num_vizinhos = [1, 2, 5, 10, 20, 50]\n",
    "\n",
    "for n in num_vizinhos: \n",
    "    knn = KNeighborsRegressor(n_neighbors = n) #Instanciando e colocando o numero de vizinhos\n",
    "    knn.fit(Xtrain, ytrain) #treino\n",
    "    \n",
    "    preds = knn.predict(Xtrain) #predição\n",
    "    \n",
    "    rmse_train = RMSE(ytrue = ytrain, ypred = preds) #RMSE\n",
    "    r2_train = r2_score(y_true = ytrain, y_pred = preds) #R2\n",
    "    \n",
    "    print(\"K = \" + str(n) + \" | RMSE:\" + str(np.round(rmse_train,2)) + \" / R2: \"+ str(np.round(r2_train, 2)))"
   ]
  },
  {
   "cell_type": "code",
   "execution_count": 135,
   "metadata": {},
   "outputs": [
    {
     "name": "stdout",
     "output_type": "stream",
     "text": [
      "Profundidade da árvore = 1 | RMSE:4.0 / R2: 0.02\n",
      "Profundidade da árvore = 5 | RMSE:3.62 / R2: 0.2\n",
      "Profundidade da árvore = 10 | RMSE:2.28 / R2: 0.68\n",
      "Profundidade da árvore = 100 | RMSE:0.72 / R2: 0.97\n"
     ]
    }
   ],
   "source": [
    "# Arvore de Decisão\n",
    "max_profundidades = [1, 5, 10, 100]\n",
    "\n",
    "for m in max_profundidades:\n",
    "    dt = DecisionTreeRegressor(max_depth = m)\n",
    "    dt.fit(Xtrain, ytrain)\n",
    "    \n",
    "    preds = dt.predict(Xtrain)\n",
    "    \n",
    "    rmse_train = RMSE(ytrue = ytrain, ypred = preds)\n",
    "    r2_train = r2_score(y_true = ytrain, y_pred = preds)\n",
    "    \n",
    "    print(\"Profundidade da árvore = \" + str(m) + \" | RMSE:\" + str(np.round(rmse_train,2)) + \" / R2: \"+ str(np.round(r2_train, 2)))"
   ]
  },
  {
   "cell_type": "code",
   "execution_count": 136,
   "metadata": {},
   "outputs": [],
   "source": [
    "from sklearn.model_selection import cross_val_score"
   ]
  },
  {
   "cell_type": "code",
   "execution_count": 137,
   "metadata": {},
   "outputs": [
    {
     "name": "stdout",
     "output_type": "stream",
     "text": [
      "[0.02937724 0.07748673 0.0741386  0.02113745 0.06464084]\n",
      "media:  0.05335617289560901\n",
      "desvio padrão:  0.023471567322450333\n"
     ]
    }
   ],
   "source": [
    "cv_lin_reg = cross_val_score(estimator = LinearRegression(), \n",
    "                             X = Xtrain, \n",
    "                             y = ytrain, \n",
    "                             cv = 5, \n",
    "                             scoring = 'r2')\n",
    "print(cv_lin_reg)\n",
    "print('media: ', cv_lin_reg.mean())\n",
    "print('desvio padrão: ', cv_lin_reg.std())"
   ]
  },
  {
   "cell_type": "code",
   "execution_count": 138,
   "metadata": {},
   "outputs": [],
   "source": [
    "def cross_validation_R2_results(modelo, nome_modelo, X, y, num_folds):\n",
    "    cv_results = cross_val_score(estimator = modelo, \n",
    "                                 X = Xtrain, \n",
    "                                 y = ytrain, \n",
    "                                 cv = num_folds, \n",
    "                                 scoring = 'r2') \n",
    "    modelo.fit(Xtrain, ytrain)\n",
    "    r2_train = r2_score(y_true=ytrain, y_pred=modelo.predict(Xtrain))\n",
    "    plt.figure(figsize=[8,6])\n",
    "    plt.scatter(range(1, 1+num_folds), cv_results, c = 'blue', s = 100)\n",
    "    plt.plot(range(1, 1+num_folds), cv_results, c = 'blue', lw = 2, label = 'R2 Fold')\n",
    "    plt.xticks(range(1, 1+num_folds))\n",
    "    plt.yticks(np.arange(0, 1.1, 0.1))\n",
    "    plt.plot(range(1, 1+num_folds), [cv_results.mean()] * num_folds, c = 'red', lw = 2, label = 'R2 Cross-val Médio')\n",
    "    \n",
    "    \n",
    "    plt.plot(range(1, 1+num_folds), [cv_results.mean() + cv_results.std()] * num_folds, '--',\n",
    "             c = 'gray', lw = 2, label = '+1 desv. padrão margem')\n",
    "    plt.plot(range(1, 1+num_folds), [cv_results.mean() - cv_results.std()] * num_folds, '--',\n",
    "             c = 'gray', lw = 2, label = '-1 desv. padrão margem')\n",
    "    \n",
    "    plt.plot(range(1, 1+num_folds), [r2_train] * num_folds, '--' ,c = 'black', lw = 3, label = 'R2 Treino')\n",
    "    plt.legend(fontsize = 10, bbox_to_anchor = [1.4,1.])\n",
    "    plt.ylim([0,1.05])\n",
    "    plt.grid()\n",
    "    plt.ylabel(\"R2 Score\", fontsize = 14, fontweight = 'bold')\n",
    "    plt.xlabel(\"Folds\", fontsize = 14, fontweight = 'bold')\n",
    "    plt.title(nome_modelo + \" | R2 TREINO/VAL: \"+ str(np.round(r2_train,2)) +\" / \"+ str(np.round(cv_results.mean(),2)),\n",
    "              fontsize = 14, fontweight = 'bold')\n",
    "    plt.show()"
   ]
  },
  {
   "cell_type": "code",
   "execution_count": 156,
   "metadata": {},
   "outputs": [
    {
     "data": {
      "image/png": "[encoded data removed]",
      "text/plain": [
       "<Figure size 576x432 with 1 Axes>"
      ]
     },
     "metadata": {
      "needs_background": "light"
     },
     "output_type": "display_data"
    }
   ],
   "source": [
    "cross_validation_R2_results(modelo = LinearRegression(),\n",
    "                           nome_modelo = 'Regressão Linear',\n",
    "                           X = Xtrain, \n",
    "                           y = ytrain, \n",
    "                           num_folds = 7)"
   ]
  },
  {
   "cell_type": "markdown",
   "metadata": {},
   "source": [
    "## Não conseguiu descrever bem os dados"
   ]
  },
  {
   "cell_type": "code",
   "execution_count": 155,
   "metadata": {},
   "outputs": [
    {
     "data": {
      "image/png": "[encoded data removed]",
      "text/plain": [
       "<Figure size 576x432 with 1 Axes>"
      ]
     },
     "metadata": {
      "needs_background": "light"
     },
     "output_type": "display_data"
    }
   ],
   "source": [
    "cross_validation_R2_results(modelo = LinearRegression(),\n",
    "                           nome_modelo = 'Regressão Linear',\n",
    "                           X = Xtrain, \n",
    "                           y = ytrain, \n",
    "                           num_folds = 5)"
   ]
  },
  {
   "cell_type": "markdown",
   "metadata": {},
   "source": [
    "## Conseguiu descrever bem os dados, mesmo com o valor entre treino e validação estarem bem diferentes"
   ]
  },
  {
   "cell_type": "code",
   "execution_count": 170,
   "metadata": {},
   "outputs": [
    {
     "data": {
      "image/png": "[encoded data removed]",
      "text/plain": [
       "<Figure size 576x432 with 1 Axes>"
      ]
     },
     "metadata": {
      "needs_background": "light"
     },
     "output_type": "display_data"
    }
   ],
   "source": [
    "cross_validation_R2_results(modelo = KNeighborsRegressor(n_neighbors = 200),\n",
    "                           nome_modelo = 'KNN(K = 100)',\n",
    "                           X = Xtrain, \n",
    "                           y = ytrain, \n",
    "                           num_folds = 5)"
   ]
  },
  {
   "cell_type": "markdown",
   "metadata": {},
   "source": [
    "## Modelo que obteve melhor desempenho"
   ]
  },
  {
   "cell_type": "code",
   "execution_count": 150,
   "metadata": {},
   "outputs": [
    {
     "data": {
      "image/png": "[encoded data removed]",
      "text/plain": [
       "<Figure size 576x432 with 1 Axes>"
      ]
     },
     "metadata": {
      "needs_background": "light"
     },
     "output_type": "display_data"
    }
   ],
   "source": [
    "cross_validation_R2_results(modelo = DecisionTreeRegressor(max_depth = 100),\n",
    "                           nome_modelo = 'DecTree(max_depth = 100)',\n",
    "                           X = Xtrain, \n",
    "                           y = ytrain, \n",
    "                           num_folds = 5)"
   ]
  },
  {
   "cell_type": "markdown",
   "metadata": {},
   "source": [
    "## Não conseguiu descrever bem os dados"
   ]
  },
  {
   "cell_type": "markdown",
   "metadata": {},
   "source": [
    "- Modelo que melhor descreveu os dados foi o de KNeighborsRegressor(n_neighbors = 200), apesar do erro ser alto, ele foi o modelo que mais se aproximou dos dados de treino e não ficou com valores muito diferentes como o knn e o de arvore de decisão"
   ]
  },
  {
   "cell_type": "code",
   "execution_count": 171,
   "metadata": {},
   "outputs": [
    {
     "data": {
      "text/plain": [
       "KNeighborsRegressor(n_neighbors=200)"
      ]
     },
     "execution_count": 171,
     "metadata": {},
     "output_type": "execute_result"
    }
   ],
   "source": [
    "modelo_final = KNeighborsRegressor(n_neighbors = 200)\n",
    "modelo_final.fit(Xtrain, ytrain)"
   ]
  },
  {
   "cell_type": "code",
   "execution_count": 172,
   "metadata": {},
   "outputs": [],
   "source": [
    "preds_modelo_final = modelo_final.predict(Xtest)"
   ]
  },
  {
   "cell_type": "code",
   "execution_count": 173,
   "metadata": {},
   "outputs": [
    {
     "data": {
      "text/plain": [
       "0.06596880422402174"
      ]
     },
     "execution_count": 173,
     "metadata": {},
     "output_type": "execute_result"
    }
   ],
   "source": [
    "#R2 em teste\n",
    "\n",
    "r2_score(y_true = ytest, y_pred = preds_modelo_final)"
   ]
  },
  {
   "cell_type": "code",
   "execution_count": 174,
   "metadata": {},
   "outputs": [
    {
     "data": {
      "text/plain": [
       "3.1418490754692243"
      ]
     },
     "execution_count": 174,
     "metadata": {},
     "output_type": "execute_result"
    }
   ],
   "source": [
    "rmse_teste_final = RMSE(ytrue = ytest, ypred = preds_modelo_final)\n",
    "rmse_teste_final"
   ]
  },
  {
   "cell_type": "code",
   "execution_count": 175,
   "metadata": {},
   "outputs": [
    {
     "data": {
      "image/png": "[encoded data removed]",
      "text/plain": [
       "<Figure size 576x576 with 1 Axes>"
      ]
     },
     "metadata": {
      "needs_background": "light"
     },
     "output_type": "display_data"
    }
   ],
   "source": [
    "plt.figure(figsize=[8,8])\n",
    "plt.title(\"Modelo Final ~ RMSE: \" + str(np.round(rmse_teste_final,2)), fontweight = 'bold', fontsize = 14)\n",
    "plt.scatter(ytest, preds_modelo_final)\n",
    "plt.xlabel(\"Target Real - Dados de Teste\", fontweight = 'bold', fontsize = 14)\n",
    "plt.ylabel(\"Predições - Dados de Teste\", fontweight = 'bold', fontsize = 14)\n",
    "plt.grid()\n",
    "range_line = int(np.maximum(max(ytest), max(preds_modelo_final)))\n",
    "plt.plot(range(1, range_line), range(1, range_line), '--' ,c = 'black', lw = 3)\n",
    "plt.show()"
   ]
  },
  {
   "cell_type": "code",
   "execution_count": null,
   "metadata": {},
   "outputs": [],
   "source": []
  }
 ],
 "metadata": {
  "kernelspec": {
   "display_name": "Python 3 (ipykernel)",
   "language": "python",
   "name": "python3"
  },
  "language_info": {
   "codemirror_mode": {
    "name": "ipython",
    "version": 3
   },
   "file_extension": ".py",
   "mimetype": "text/x-python",
   "name": "python",
   "nbconvert_exporter": "python",
   "pygments_lexer": "ipython3",
   "version": "3.9.12"
  }
 },
 "nbformat": 4,
 "nbformat_minor": 4
}
